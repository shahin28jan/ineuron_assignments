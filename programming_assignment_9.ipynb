{
 "cells": [
  {
   "cell_type": "code",
   "execution_count": null,
   "id": "ab60c7d8-b323-4275-b052-c2a499c28300",
   "metadata": {},
   "outputs": [],
   "source": [
    "1. Write a Python program to check if the given number is a Disarium Number?"
   ]
  },
  {
   "cell_type": "code",
   "execution_count": 1,
   "id": "2edad518-5ae2-4e82-b149-c2e677667a12",
   "metadata": {},
   "outputs": [],
   "source": [
    "#Answer1:\n",
    "def disarium_number(number):\n",
    "    num = number\n",
    "    num_copy = num   # number copy in another variable \n",
    "    l = len(str(num))\n",
    "    dis_num = 0\n",
    "    while num>0:\n",
    "        remainder = num % 10\n",
    "        dis_num = dis_num + remainder**l\n",
    "        num = num//10\n",
    "        l=l-1\n",
    "    if dis_num == num_copy:\n",
    "        print(f\"Given number is disarium number: {num_copy} = {dis_num}\")\n",
    "    else:\n",
    "        print(f\"Given number is not disarium number: {num_copy} != {dis_num}\")\n",
    "    "
   ]
  },
  {
   "cell_type": "code",
   "execution_count": 2,
   "id": "9fdd942c-13bd-47c6-bd03-7ac6fb5deab2",
   "metadata": {},
   "outputs": [
    {
     "name": "stdout",
     "output_type": "stream",
     "text": [
      "Given number is not disarium number: 75 != 32\n"
     ]
    }
   ],
   "source": [
    "disarium_number(75)"
   ]
  },
  {
   "cell_type": "code",
   "execution_count": null,
   "id": "f45a7318-5635-46e5-9aae-eb333be148fe",
   "metadata": {},
   "outputs": [],
   "source": [
    "2. Write a Python program to print all disarium numbers between 1 to 100?"
   ]
  },
  {
   "cell_type": "code",
   "execution_count": 3,
   "id": "fb417331-6941-4022-8d60-1620d99efe98",
   "metadata": {},
   "outputs": [
    {
     "name": "stdout",
     "output_type": "stream",
     "text": [
      "Disarium numbers between 1 to 100:\n",
      "1\n",
      "2\n",
      "3\n",
      "4\n",
      "5\n",
      "6\n",
      "7\n",
      "8\n",
      "9\n",
      "89\n"
     ]
    }
   ],
   "source": [
    "#Answer2:\n",
    "def disarium_number(number):\n",
    "    num = number\n",
    "    num_copy = num   # number copy in another variable \n",
    "    l = len(str(num))\n",
    "    dis_num = 0\n",
    "    while num>0:\n",
    "        remainder = num % 10\n",
    "        dis_num = dis_num + remainder**l\n",
    "        num = num//10\n",
    "        l=l-1\n",
    "    return(dis_num)    \n",
    "print(\"Disarium numbers between 1 to 100:\")\n",
    "for i in range(1,100+1):\n",
    "    if disarium_number(i)==i:\n",
    "        print(i)\n",
    "    "
   ]
  },
  {
   "cell_type": "code",
   "execution_count": null,
   "id": "6e3a3c50-3f91-44c2-b67a-842a363c2c2e",
   "metadata": {},
   "outputs": [],
   "source": [
    "3. Write a Python program to check if the given number is Happy Number?"
   ]
  },
  {
   "cell_type": "code",
   "execution_count": null,
   "id": "4a10fc33-feb1-4262-902a-3320547d9dcf",
   "metadata": {},
   "outputs": [],
   "source": [
    "#Answer3:\n",
    "\n",
    "def happy_num(n):\n",
    "    past = set()\n",
    "  \n",
    "    while n != 1:\n",
    "        n = sum(int(i)**2 for i in str(n))\n",
    "        if n in past:\n",
    "            return (\"The given number is not Harshad Number\")\n",
    "        past.add(n)\n",
    "            \n",
    "    return (\"The given number is Harshad Number\")\n",
    "\n",
    "print(happy_num(int(input(\"Enter the number: \"))))"
   ]
  },
  {
   "cell_type": "code",
   "execution_count": null,
   "id": "65c1fab6-bf9d-406f-ac55-9b90638b03c2",
   "metadata": {},
   "outputs": [],
   "source": [
    "4. Write a Python program to print all happy numbers between 1 and 100?"
   ]
  },
  {
   "cell_type": "code",
   "execution_count": 20,
   "id": "4a1f9985-4de2-4852-a5cc-3942497dafa1",
   "metadata": {},
   "outputs": [
    {
     "name": "stdout",
     "output_type": "stream",
     "text": [
      "All happy numbers between 1 to 100: \n",
      "1\n",
      "7\n",
      "10\n",
      "13\n",
      "19\n",
      "23\n",
      "28\n",
      "31\n",
      "32\n",
      "44\n",
      "49\n",
      "68\n",
      "70\n",
      "79\n",
      "82\n",
      "86\n",
      "91\n",
      "94\n",
      "97\n",
      "100\n"
     ]
    }
   ],
   "source": [
    "#Answer4:\n",
    "\n",
    "def happy_num(n):\n",
    "    #n= int(input(\"Enter the number: \"))\n",
    "    copy_n=n\n",
    "    past = set()\n",
    "  \n",
    "    while n != 1:\n",
    "        n = sum(int(i)**2 for i in str(n))\n",
    "        if n in past:\n",
    "            return \n",
    "        past.add(n)\n",
    "            \n",
    "    return print(copy_n)\n",
    "\n",
    "print(\"All happy numbers between 1 to 100: \")\n",
    "for i in range(1,100+1):\n",
    "    happy_num(i) == 1"
   ]
  },
  {
   "cell_type": "code",
   "execution_count": null,
   "id": "d66d9e00-d3fe-4f6b-ac10-b88eadf695e0",
   "metadata": {},
   "outputs": [],
   "source": [
    "5. Write a Python program to determine whether the given number is a Harshad Number?"
   ]
  },
  {
   "cell_type": "code",
   "execution_count": 12,
   "id": "0deab9e0-d574-4118-846d-67dfff03de81",
   "metadata": {},
   "outputs": [
    {
     "name": "stdin",
     "output_type": "stream",
     "text": [
      "Enter the number:  45\n"
     ]
    },
    {
     "name": "stdout",
     "output_type": "stream",
     "text": [
      "The given number 45 is a Harshad Number\n"
     ]
    }
   ],
   "source": [
    "#Answer5:\n",
    "\n",
    "num = int(input(\"Enter the number: \"))\n",
    "copy_num = num\n",
    "digit_sum = 0\n",
    "while num >0:\n",
    "    digit_sum = digit_sum + num % 10\n",
    "    num = num // 10\n",
    "\n",
    "if copy_num % digit_sum == 0:\n",
    "    print(f\"The given number {copy_num} is a Harshad Number\")\n",
    "else:\n",
    "    print(f\"The given number {copy_num} is not a Harshad Number\")"
   ]
  },
  {
   "cell_type": "code",
   "execution_count": null,
   "id": "2c498762-2c9d-4c43-a1a6-cda6eb866bcf",
   "metadata": {},
   "outputs": [],
   "source": [
    "6. Write a Python program to print all pronic numbers between 1 and 100?"
   ]
  },
  {
   "cell_type": "code",
   "execution_count": 19,
   "id": "e1f03b16-5f91-44d5-892a-3bbb32cd76af",
   "metadata": {},
   "outputs": [
    {
     "name": "stdout",
     "output_type": "stream",
     "text": [
      "All Pronic numbers between 1 and 100: \n",
      "2\n",
      "6\n",
      "12\n",
      "20\n",
      "30\n",
      "42\n",
      "56\n",
      "72\n",
      "90\n"
     ]
    }
   ],
   "source": [
    "#Answer6:\n",
    "\n",
    "def pronic_number(num):    \n",
    "    flag = False    \n",
    "        \n",
    "    for i in range(1, num+1):    \n",
    "        #Checks for pronic number by multiplying consecutive numbers    \n",
    "        if((i*(i+1)) == num):    \n",
    "            flag = True    \n",
    "            break    \n",
    "    return flag    \n",
    "     \n",
    "#Displays pronic numbers between 1 and 100    \n",
    "print(\"All Pronic numbers between 1 and 100: \");    \n",
    "for i in range(1, 100+1):    \n",
    "    if(pronic_number(i)):    \n",
    "        print(i)    "
   ]
  },
  {
   "cell_type": "code",
   "execution_count": null,
   "id": "ada85de7-e74f-4f86-94ec-4505c7e64265",
   "metadata": {},
   "outputs": [],
   "source": []
  }
 ],
 "metadata": {
  "kernelspec": {
   "display_name": "Python 3 (ipykernel)",
   "language": "python",
   "name": "python3"
  },
  "language_info": {
   "codemirror_mode": {
    "name": "ipython",
    "version": 3
   },
   "file_extension": ".py",
   "mimetype": "text/x-python",
   "name": "python",
   "nbconvert_exporter": "python",
   "pygments_lexer": "ipython3",
   "version": "3.10.6"
  }
 },
 "nbformat": 4,
 "nbformat_minor": 5
}
