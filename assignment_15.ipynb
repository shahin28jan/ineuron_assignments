{
 "cells": [
  {
   "attachments": {},
   "cell_type": "markdown",
   "id": "7dd6ea36",
   "metadata": {},
   "source": [
    "Question15:\n",
    "1.How many seconds are in an hour? Use the interactive interpreter as a calculator and multiply the number of seconds in a minute (60) \n",
    "by the number of minutes in an hour (also 60)."
   ]
  },
  {
   "cell_type": "code",
   "execution_count": 2,
   "id": "8acbbcfd",
   "metadata": {},
   "outputs": [
    {
     "name": "stdout",
     "output_type": "stream",
     "text": [
      "Seconds in an hour is: 3600\n"
     ]
    }
   ],
   "source": [
    "sec = 60 * 60\n",
    "print(f\"Seconds in an hour is: {sec}\")"
   ]
  },
  {
   "attachments": {},
   "cell_type": "markdown",
   "id": "b402ae9d",
   "metadata": {},
   "source": [
    "Question2:\n",
    "Assign the result from the previous task (seconds in an hour) to a variable called seconds_per_hour."
   ]
  },
  {
   "cell_type": "code",
   "execution_count": 3,
   "id": "4c851b83",
   "metadata": {},
   "outputs": [
    {
     "name": "stdout",
     "output_type": "stream",
     "text": [
      "3600\n"
     ]
    }
   ],
   "source": [
    "seconds_per_hour=sec\n",
    "print(seconds_per_hour)"
   ]
  },
  {
   "attachments": {},
   "cell_type": "markdown",
   "id": "5158c061",
   "metadata": {},
   "source": [
    "Question3:\n",
    "How many seconds do you think there are in a day? Make use of the variables seconds per hour and minutes per hour."
   ]
  },
  {
   "cell_type": "code",
   "execution_count": 6,
   "id": "2f818456",
   "metadata": {},
   "outputs": [
    {
     "name": "stdout",
     "output_type": "stream",
     "text": [
      "Seconds in a day: 86400\n"
     ]
    }
   ],
   "source": [
    "minutes_per_hour=24\n",
    "\n",
    "sec_per_day = seconds_per_hour*minutes_per_hour\n",
    "print(f\"Seconds in a day: {sec_per_day}\")"
   ]
  },
  {
   "attachments": {},
   "cell_type": "markdown",
   "id": "bc3df5a5",
   "metadata": {},
   "source": [
    "Question4: Calculate seconds per day again, but this time save the result in a variable called seconds_per_day."
   ]
  },
  {
   "cell_type": "code",
   "execution_count": 8,
   "id": "c813b199",
   "metadata": {},
   "outputs": [
    {
     "name": "stdout",
     "output_type": "stream",
     "text": [
      "86400\n"
     ]
    }
   ],
   "source": [
    "seconds_per_day=60*60*24\n",
    "print(seconds_per_day)"
   ]
  },
  {
   "attachments": {},
   "cell_type": "markdown",
   "id": "b6c925d8",
   "metadata": {},
   "source": [
    "Question5:\n",
    "Divide seconds_per_day by seconds_per_hour. Use floating-point (/) division."
   ]
  },
  {
   "cell_type": "code",
   "execution_count": 9,
   "id": "0416336a",
   "metadata": {},
   "outputs": [
    {
     "name": "stdout",
     "output_type": "stream",
     "text": [
      "24.0\n"
     ]
    }
   ],
   "source": [
    "print(seconds_per_day/seconds_per_hour)"
   ]
  },
  {
   "attachments": {},
   "cell_type": "markdown",
   "id": "644cdd39",
   "metadata": {},
   "source": [
    "Question6:\n",
    "Divide seconds_per_day by seconds_per_hour, using integer (//) division. Did this number agree with the floating-point value from the \n",
    "previous question, aside from the final .0?"
   ]
  },
  {
   "cell_type": "code",
   "execution_count": 10,
   "id": "b9889705",
   "metadata": {},
   "outputs": [
    {
     "name": "stdout",
     "output_type": "stream",
     "text": [
      "24\n"
     ]
    }
   ],
   "source": [
    "print(seconds_per_day//seconds_per_hour)"
   ]
  },
  {
   "attachments": {},
   "cell_type": "markdown",
   "id": "5d6d4c6d",
   "metadata": {},
   "source": [
    "yes it is agree."
   ]
  },
  {
   "attachments": {},
   "cell_type": "markdown",
   "id": "bbd97916",
   "metadata": {},
   "source": [
    "Question7:\n",
    "Write a generator, genPrimes, that returns the sequence of prime numbers on successive calls to its next() method: 2, 3, 5, 7, 11, ..."
   ]
  },
  {
   "cell_type": "code",
   "execution_count": 11,
   "id": "60363e7d",
   "metadata": {},
   "outputs": [
    {
     "name": "stdout",
     "output_type": "stream",
     "text": [
      "1\n",
      "2\n",
      "3\n",
      "5\n",
      "7\n",
      "11\n",
      "13\n",
      "17\n",
      "19\n",
      "23\n"
     ]
    }
   ],
   "source": [
    "def genprimes():\n",
    "    n=0\n",
    "    while True:\n",
    "        if n == 2 or n == 3:\n",
    "            yield n\n",
    "        elif( (n-1)%6==0 or (n+1)%6==0 and n!=1 ):\n",
    "            yield n\n",
    "        n=n+1\n",
    "        \n",
    "output = genprimes()\n",
    "for i in range(10):\n",
    "    print(next(output))"
   ]
  },
  {
   "cell_type": "code",
   "execution_count": null,
   "id": "91ae1af8",
   "metadata": {},
   "outputs": [],
   "source": []
  }
 ],
 "metadata": {
  "kernelspec": {
   "display_name": "Python 3 (ipykernel)",
   "language": "python",
   "name": "python3"
  },
  "language_info": {
   "codemirror_mode": {
    "name": "ipython",
    "version": 3
   },
   "file_extension": ".py",
   "mimetype": "text/x-python",
   "name": "python",
   "nbconvert_exporter": "python",
   "pygments_lexer": "ipython3",
   "version": "3.11.2"
  }
 },
 "nbformat": 4,
 "nbformat_minor": 5
}
