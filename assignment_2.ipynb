{
 "cells": [
  {
   "cell_type": "code",
   "execution_count": null,
   "id": "ed1399b2-7e91-4b06-85a9-6adaf5abfdb9",
   "metadata": {},
   "outputs": [],
   "source": [
    "1.What are the two values of the Boolean data type? How do you write them?"
   ]
  },
  {
   "cell_type": "code",
   "execution_count": null,
   "id": "3622a4ed-432f-4bf1-804d-7aa113eda991",
   "metadata": {},
   "outputs": [],
   "source": [
    "Answer1: Two values of Boolean data type is True and False. We can write True and False first alphbet should be capital rest in lowercase."
   ]
  },
  {
   "cell_type": "code",
   "execution_count": null,
   "id": "46f7a90e-9c5c-4f50-b563-637ded8dd237",
   "metadata": {},
   "outputs": [],
   "source": [
    "2. What are the three different types of Boolean operators?"
   ]
  },
  {
   "cell_type": "code",
   "execution_count": null,
   "id": "db128e56-eae5-435b-aab6-74ad2ddd8a20",
   "metadata": {},
   "outputs": [],
   "source": [
    "Answer2: Three types of Boolean operators are:\n",
    "    1. and\n",
    "    2. or\n",
    "    3. not"
   ]
  },
  {
   "cell_type": "code",
   "execution_count": null,
   "id": "8d62a4af-86a9-4ff0-8bdf-88a8c8a24de5",
   "metadata": {},
   "outputs": [],
   "source": [
    "3. Make a list of each Boolean operator's truth tables (i.e. every possible combination of Boolean values for the operator and what it evaluate )."
   ]
  },
  {
   "cell_type": "code",
   "execution_count": null,
   "id": "7486cb30-db02-4026-a0bf-dd496a4decd8",
   "metadata": {},
   "outputs": [],
   "source": [
    "Answer: All possible combinations are:\n",
    "For 'and' operator:\n",
    "    1. True and True = True\n",
    "    2. True and False = False\n",
    "    3. False and False = False\n",
    "    4. False and True = False\n",
    "For 'or' operator:\n",
    "    1. True or True = True\n",
    "    2. True or False = True\n",
    "    3. False or False = True\n",
    "    4. False or True = False\n",
    "For 'not' operator:\n",
    "    1. not True = False\n",
    "    2. not False = True\n",
    "        "
   ]
  },
  {
   "cell_type": "code",
   "execution_count": null,
   "id": "35760dd7-9669-4c6e-b075-05f6abdc8a04",
   "metadata": {},
   "outputs": [],
   "source": [
    "4. What are the values of the following expressions?\n",
    "(5 > 4) and (3 == 5)\n",
    "not (5 > 4)\n",
    "(5 > 4) or (3 == 5)\n",
    "not ((5 > 4) or (3 == 5))\n",
    "(True and True) and (True == False)\n",
    "(not False) or (not True)"
   ]
  },
  {
   "cell_type": "code",
   "execution_count": null,
   "id": "150d2139-52d0-4520-b4eb-3730feee2f4a",
   "metadata": {},
   "outputs": [],
   "source": [
    "Answer4:\n",
    "(5 > 4) and (3 == 5) = False\n",
    "not(5 > 4) = False\n",
    "(5 > 4) or (3 == 5) = True\n",
    "not ((5 > 4) or (3 == 5)) = False\n",
    "(True and True) and (True == False) = False\n",
    "(not False) or (not True) == True"
   ]
  },
  {
   "cell_type": "code",
   "execution_count": null,
   "id": "946225a5-8967-4dfd-9fb4-cca669a03f14",
   "metadata": {},
   "outputs": [],
   "source": [
    "5. What are the six comparison operators?"
   ]
  },
  {
   "cell_type": "code",
   "execution_count": null,
   "id": "394f9f16-9b0c-4b11-a245-36375a2baff1",
   "metadata": {},
   "outputs": [],
   "source": [
    "Answer5: Six comparison operators are:\n",
    "    1. >\n",
    "    2. <\n",
    "    3. >=\n",
    "    4. <=\n",
    "    5. !=\n",
    "    6. ==    "
   ]
  },
  {
   "cell_type": "code",
   "execution_count": null,
   "id": "0a458f2c-83a0-43c4-a5b4-54b31d8448c7",
   "metadata": {},
   "outputs": [],
   "source": [
    "6. How do you tell the difference between the equal to and assignment operators?Describe a\n",
    "condition and when you would use one."
   ]
  },
  {
   "cell_type": "code",
   "execution_count": null,
   "id": "98702746-024d-4fc1-95b8-c00b6b102ade",
   "metadata": {},
   "outputs": [],
   "source": [
    "Answer6: We use equal '=' to assign value in a variable (eg. a=4) while in assignment operators '==', we compare two variables are equal or not (eg. if a==4:\n",
    "                                                                                                                                                       print(\"It is equal\")) \n",
    "We use == operator in flow chart(if, else statement) for comparing values are equal or not\n",
    "\n",
    "a = 4\n",
    "if a == 4:\n",
    "    print(\"It is equal\")\n",
    "else:\n",
    "    print(\"It is not equal\")\n"
   ]
  },
  {
   "cell_type": "code",
   "execution_count": null,
   "id": "a820e353-fb5f-4256-997f-7c9e35ab2129",
   "metadata": {},
   "outputs": [],
   "source": [
    "7. Identify the three blocks in this code:\n",
    "spam = 0\n",
    "if spam == 10:\n",
    "    print('eggs')\n",
    "if spam > 5:\n",
    "    print('bacon')\n",
    "else:\n",
    "    print('ham')\n",
    "    print('spam')\n",
    "    print('spam')"
   ]
  },
  {
   "cell_type": "code",
   "execution_count": null,
   "id": "904c88c2-7693-410f-8c99-7ec6d07e26c3",
   "metadata": {},
   "outputs": [],
   "source": [
    "Answer7: Three blocks in this code are:\n",
    "    1. spam == 10\n",
    "    2. spam > 5\n",
    "    3. else block, means if spam is not satisfied above two conditions then else statement would be executed\n",
    "    \n",
    "In the given code both conditions are not satisfied, so else block will be executed.\n",
    "output will be: ham\n",
    "                spam\n",
    "                spam"
   ]
  },
  {
   "cell_type": "code",
   "execution_count": null,
   "id": "2fae0d1f-03f1-4c31-8685-d9b86d495560",
   "metadata": {},
   "outputs": [],
   "source": [
    "8. Write code that prints Hello if 1 is stored in spam, prints Howdy if 2 is stored in spam, and prints\n",
    "Greetings! if anything else is stored in spam."
   ]
  },
  {
   "cell_type": "code",
   "execution_count": null,
   "id": "da701217-ae53-4546-8c1c-3c1e1cc40d1f",
   "metadata": {},
   "outputs": [],
   "source": [
    "Answer8: \n",
    "    \n",
    "spam = 1\n",
    "if spam == 1:\n",
    "    print('Hello')\n",
    "elif spam == 2:\n",
    "    print('Howdy')\n",
    "else:\n",
    "    print('Greetings!')    \n",
    "        "
   ]
  },
  {
   "cell_type": "code",
   "execution_count": null,
   "id": "6c8472d4-3ec0-4c86-9869-f52a70f636b0",
   "metadata": {},
   "outputs": [],
   "source": [
    "9.If your programme is stuck in an endless loop, what keys you’ll press?"
   ]
  },
  {
   "cell_type": "code",
   "execution_count": null,
   "id": "b2d8cc46-18fb-45de-a008-b067f5311e13",
   "metadata": {},
   "outputs": [],
   "source": [
    "Answer9: Use ctrl+C shortcut key to break the infinite loop."
   ]
  },
  {
   "cell_type": "code",
   "execution_count": null,
   "id": "2b5ced0c-2612-4411-b003-6f2e27a74614",
   "metadata": {},
   "outputs": [],
   "source": [
    "10. How can you tell the difference between break and continue?"
   ]
  },
  {
   "cell_type": "code",
   "execution_count": null,
   "id": "14b3321a-37af-4d25-abb6-7bde22f50f0f",
   "metadata": {},
   "outputs": [],
   "source": [
    "Answer10: The break statement is terminate the iteration of loop when given condition is satisfied, while The continue statement can be used if we need to skip the current iteration of a loop and move on to the next iteration."
   ]
  },
  {
   "cell_type": "code",
   "execution_count": null,
   "id": "dab7cecc-b1af-4c68-90f9-c8de212795de",
   "metadata": {},
   "outputs": [],
   "source": [
    "11. In a for loop, what is the difference between range(10), range(0, 10), and range(0, 10, 1)?"
   ]
  },
  {
   "cell_type": "code",
   "execution_count": null,
   "id": "4a95f118-2672-4fec-91ba-ef55fe1b7f7b",
   "metadata": {},
   "outputs": [],
   "source": [
    "Answer11: In for loop range() function allow us to generate a series of numbers with in a given range. It generate whole numbers. Output of given all range statement will be same. \n",
    "1. range(10)- In this ran we pass one argument. Which means a series of numbers generate which starts from 0 to 10 (but given no is not included). \n",
    "2. range(0, 10)- In this range function we pass two argument. First argument means statring point of a series of numbers and second argument means where series of number stop.\n",
    "3. range(0, 10, 1)- In this range function we pass three argument. First and second argument are start and stop point, while third argument means difference between one numbers and next number."
   ]
  },
  {
   "cell_type": "code",
   "execution_count": null,
   "id": "c8ffbd9a-f204-402c-82cc-f690ca8f5d89",
   "metadata": {},
   "outputs": [],
   "source": [
    "12. Write a short program that prints the numbers 1 to 10 using a for loop. Then write an equivalent\n",
    "program that prints the numbers 1 to 10 using a while loop."
   ]
  },
  {
   "cell_type": "code",
   "execution_count": null,
   "id": "8d4bd0db-c250-4122-ad88-a7ff0ae8a2a8",
   "metadata": {},
   "outputs": [],
   "source": [
    "Answer12: "
   ]
  },
  {
   "cell_type": "code",
   "execution_count": 5,
   "id": "973ab337-1cd9-4143-a685-ca2f37466e96",
   "metadata": {},
   "outputs": [
    {
     "name": "stdout",
     "output_type": "stream",
     "text": [
      "1\n",
      "2\n",
      "3\n",
      "4\n",
      "5\n",
      "6\n",
      "7\n",
      "8\n",
      "9\n",
      "10\n",
      "1\n",
      "2\n",
      "3\n",
      "4\n",
      "5\n",
      "6\n",
      "7\n",
      "8\n",
      "9\n",
      "10\n"
     ]
    }
   ],
   "source": [
    "# code for 'for loop'   \n",
    "\n",
    "for i in range(1,11):\n",
    "    print(i)\n",
    "\n",
    "#code for while loop\n",
    "\n",
    "i=1\n",
    "while i<11:\n",
    "    print(i)\n",
    "    i=i+1\n",
    "   "
   ]
  },
  {
   "cell_type": "code",
   "execution_count": null,
   "id": "5ab5cb18-f823-4c54-8c24-379db0c3bbc5",
   "metadata": {},
   "outputs": [],
   "source": [
    "13. If you had a function named bacon() inside a module named spam, how would you call it after\n",
    "importing spam?"
   ]
  },
  {
   "cell_type": "code",
   "execution_count": null,
   "id": "dd555378-8668-44dd-90f8-180c5c00064f",
   "metadata": {},
   "outputs": [],
   "source": [
    "Answer13: we call function after importing spam -\n",
    "           spam.bacon()"
   ]
  }
 ],
 "metadata": {
  "kernelspec": {
   "display_name": "Python 3 (ipykernel)",
   "language": "python",
   "name": "python3"
  },
  "language_info": {
   "codemirror_mode": {
    "name": "ipython",
    "version": 3
   },
   "file_extension": ".py",
   "mimetype": "text/x-python",
   "name": "python",
   "nbconvert_exporter": "python",
   "pygments_lexer": "ipython3",
   "version": "3.10.6"
  }
 },
 "nbformat": 4,
 "nbformat_minor": 5
}
