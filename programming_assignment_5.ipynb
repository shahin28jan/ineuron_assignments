{
 "cells": [
  {
   "cell_type": "code",
   "execution_count": null,
   "id": "ef1bd23b-8be4-47b9-ad77-4319347cb3cc",
   "metadata": {},
   "outputs": [],
   "source": [
    "1. Write a Python Program to Find LCM ?"
   ]
  },
  {
   "cell_type": "code",
   "execution_count": 35,
   "id": "03db5280-b7af-4861-af98-d7247beaa550",
   "metadata": {},
   "outputs": [
    {
     "name": "stdin",
     "output_type": "stream",
     "text": [
      "Enter a number:  13\n",
      "Enter a number:  17\n"
     ]
    },
    {
     "name": "stdout",
     "output_type": "stream",
     "text": [
      "LCM of 13 and 17 is 221\n"
     ]
    }
   ],
   "source": [
    "#Answer1:\n",
    "\n",
    "num1 = int(input(\"Enter a number: \"))\n",
    "num2 = int(input(\"Enter a number: \"))\n",
    "\n",
    "gcd = 0\n",
    "LCM = 0\n",
    "\n",
    "if num1<1 or num2<0:\n",
    "    print(\"Enter the positive number\")\n",
    "else:\n",
    "    for i in range(2,num1):\n",
    "        if i <=num1:\n",
    "            if num1%i==0 and num2%i==0:\n",
    "                gcd = i\n",
    "                LCM = num1*num2/gcd\n",
    "\n",
    "    if gcd == 0:\n",
    "        LCM = num1 * num2\n",
    "                \n",
    "\n",
    "\n",
    "    print(f\"LCM of {num1} and {num2} is {LCM}\")"
   ]
  },
  {
   "cell_type": "code",
   "execution_count": null,
   "id": "7226699b-1c21-4253-8947-a6f10ac67946",
   "metadata": {},
   "outputs": [],
   "source": [
    "2. Write a Python Program to Find HCF?"
   ]
  },
  {
   "cell_type": "code",
   "execution_count": 26,
   "id": "6d135373-736d-483f-9d00-7c464b9c645e",
   "metadata": {},
   "outputs": [
    {
     "name": "stdin",
     "output_type": "stream",
     "text": [
      "Enter a number:  45\n",
      "Enter a number:  72\n"
     ]
    },
    {
     "name": "stdout",
     "output_type": "stream",
     "text": [
      "HCF of 45 and 72 is 9.0\n"
     ]
    }
   ],
   "source": [
    "#Answer2:\n",
    "\n",
    "num1 = int(input(\"Enter a number: \"))\n",
    "num2 = int(input(\"Enter a number: \"))\n",
    "\n",
    "gcd = 0\n",
    "LCM = 0\n",
    "HCF = 0\n",
    "if num1<1 or num2<0:\n",
    "    print(\"Enter the positive number\")\n",
    "else:\n",
    "    for i in range(2,num1):\n",
    "        if i <=num1:\n",
    "            if num1%i==0 and num2%i==0:\n",
    "                gcd = i\n",
    "                LCM = num1*num2/gcd\n",
    "\n",
    "    if gcd == 0:\n",
    "        LCM = num1 * num2\n",
    "                \n",
    "HCF = num1*num2/LCM\n",
    "print(f\"HCF of {num1} and {num2} is {HCF}\")"
   ]
  },
  {
   "cell_type": "code",
   "execution_count": null,
   "id": "5df8c307-1a2e-4c43-9509-3c00b2d50ed0",
   "metadata": {},
   "outputs": [],
   "source": [
    "3. Write a Python Program to Convert Decimal to Binary, Octal and Hexadecimal?"
   ]
  },
  {
   "cell_type": "code",
   "execution_count": 90,
   "id": "9303ae75-8096-4672-891f-3d31200a4d61",
   "metadata": {},
   "outputs": [
    {
     "name": "stdin",
     "output_type": "stream",
     "text": [
      "Enter the decimal number:  960\n",
      "Enter which operation do you want: binary, octal or hexadecimal:  hexadecimal\n"
     ]
    },
    {
     "name": "stdout",
     "output_type": "stream",
     "text": [
      "hexadecimal number of given number: [3, 'C', 0]\n"
     ]
    }
   ],
   "source": [
    "#Answer:\n",
    "\n",
    "num = int(input(\"Enter the decimal number: \"))\n",
    "bin = list()\n",
    "reverse_bin = list()\n",
    "remainder = 0\n",
    "\n",
    "if num<1:\n",
    "    print(\"Enter the positive number\")\n",
    "else:\n",
    "        operation = input(\"Enter which operation do you want: binary, octal or hexadecimal: \")\n",
    "        \n",
    "# change decimal no into binary        \n",
    "\n",
    "if operation == 'binary':\n",
    "    while num//2 != 0:\n",
    "        remainder = num%2\n",
    "        num = num//2\n",
    "        bin.append(remainder)\n",
    "    bin.append(num)        \n",
    "    reverse_bin = bin[::-1]    \n",
    "# change decimal no into octal        \n",
    "                \n",
    "elif operation == 'octal':\n",
    "    while num//8 != 0:\n",
    "        remainder = num%8\n",
    "        num = num//8\n",
    "        bin.append(remainder)\n",
    "    bin.append(num)        \n",
    "    reverse_bin = bin[::-1]\n",
    "        \n",
    "        \n",
    "# change decimal no into hexadecimal        \n",
    "        \n",
    "else:\n",
    "    while num//16 != 0:\n",
    "        remainder = num%16\n",
    "        num = num//16\n",
    "        bin.append(remainder)\n",
    "    bin.append(num)        \n",
    "    reverse_bin = bin[::-1]\n",
    "    \n",
    "     \n",
    "    for i in range (len(reverse_bin)):\n",
    "        if reverse_bin[i] == 10:\n",
    "            reverse_bin[i] = 'A'\n",
    "        elif reverse_bin[i] == 11:\n",
    "            reverse_bin[i] = 'B'\n",
    "        elif reverse_bin[i] == 12:\n",
    "            reverse_bin[i] = 'C'\n",
    "        elif reverse_bin[i] == 13:\n",
    "            reverse_bin[i] = 'D'\n",
    "        elif reverse_bin[i] == 14:\n",
    "            reverse_bin[i] = 'E'\n",
    "        elif reverse_bin[i] == 15:\n",
    "            reverse_bin[i] = 'F'\n",
    "        i=i+1    \n",
    "        \n",
    "print(f\"{operation} number of given number: {reverse_bin}\")   "
   ]
  },
  {
   "cell_type": "code",
   "execution_count": null,
   "id": "073d9c8d-b6ca-47a0-a9ad-ce908d1e3929",
   "metadata": {},
   "outputs": [],
   "source": [
    "4. Write a Python Program To Find ASCII value of a character?"
   ]
  },
  {
   "cell_type": "code",
   "execution_count": 23,
   "id": "d5367723-e982-4f85-b5d5-f376c5bbcb68",
   "metadata": {},
   "outputs": [
    {
     "name": "stdin",
     "output_type": "stream",
     "text": [
      "Enter any character to know its ASCII value:  A\n"
     ]
    },
    {
     "name": "stdout",
     "output_type": "stream",
     "text": [
      "ASCII value of A is: 65\n"
     ]
    }
   ],
   "source": [
    "#Answer4:\n",
    "\n",
    "char = input(\"Enter any character to know its ASCII value: \")\n",
    "ascii_val = ord(char)\n",
    "print(f\"ASCII value of {char} is: {ascii_val}\")"
   ]
  },
  {
   "cell_type": "code",
   "execution_count": null,
   "id": "92316afa-c37d-42b4-9da2-2d2ba0dadb12",
   "metadata": {},
   "outputs": [],
   "source": [
    "5. Write a Python Program to Make a Simple Calculator with 4 basic mathematical operations?"
   ]
  },
  {
   "cell_type": "code",
   "execution_count": 14,
   "id": "ac46c819-2885-47a0-a43a-9287145b99ac",
   "metadata": {},
   "outputs": [],
   "source": [
    "#Answer:\n",
    "\n",
    "def calculator():\n",
    "    num1=int(input(\"Enter the first number: \"))\n",
    "    num2=int(input(\"Enter the second number: \"))\n",
    "    operation = input(\"Enter the operation do you want: \")\n",
    "    if(operation=='add'):\n",
    "        result = num1+num2\n",
    "           \n",
    "    if (operation == 'subtraction'):\n",
    "        result = num1 - num2\n",
    "           \n",
    "    if (operation == 'multiply'):\n",
    "        result = num1 * num2\n",
    "          \n",
    "    if (operation == 'divide'):\n",
    "        result = num1 / num2\n",
    "    print(f\"After {operation} we get: {result}\")        \n",
    "    return\n",
    "          "
   ]
  },
  {
   "cell_type": "code",
   "execution_count": 16,
   "id": "84bddf38-ab98-4549-8236-d5fbb25b7907",
   "metadata": {},
   "outputs": [
    {
     "name": "stdin",
     "output_type": "stream",
     "text": [
      "Enter the first number:  500\n",
      "Enter the second number:  5\n",
      "Enter the operation do you want:  divide\n"
     ]
    },
    {
     "name": "stdout",
     "output_type": "stream",
     "text": [
      "After divide we get: 100.0\n"
     ]
    }
   ],
   "source": [
    "calculator()"
   ]
  },
  {
   "cell_type": "code",
   "execution_count": null,
   "id": "44ea3104-1b64-494f-b554-db9fb7e68f01",
   "metadata": {},
   "outputs": [],
   "source": []
  }
 ],
 "metadata": {
  "kernelspec": {
   "display_name": "Python 3 (ipykernel)",
   "language": "python",
   "name": "python3"
  },
  "language_info": {
   "codemirror_mode": {
    "name": "ipython",
    "version": 3
   },
   "file_extension": ".py",
   "mimetype": "text/x-python",
   "name": "python",
   "nbconvert_exporter": "python",
   "pygments_lexer": "ipython3",
   "version": "3.10.6"
  }
 },
 "nbformat": 4,
 "nbformat_minor": 5
}
