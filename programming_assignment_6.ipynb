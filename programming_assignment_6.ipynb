{
 "cells": [
  {
   "cell_type": "code",
   "execution_count": null,
   "id": "62fb27cc-3555-4f05-bc1d-ee4b7f086f6b",
   "metadata": {},
   "outputs": [],
   "source": [
    "1. Write a Python Program to Display Fibonacci Sequence Using Recursion?"
   ]
  },
  {
   "cell_type": "code",
   "execution_count": 7,
   "id": "1c2d747d-b6bf-45aa-b81e-24e057d960fb",
   "metadata": {},
   "outputs": [
    {
     "name": "stdin",
     "output_type": "stream",
     "text": [
      "Enter the lenght of fabonacci sequence do you want:  7\n"
     ]
    },
    {
     "name": "stdout",
     "output_type": "stream",
     "text": [
      "Fibonacci sequence: \n",
      "0\n",
      "1\n",
      "1\n",
      "2\n",
      "3\n",
      "5\n",
      "8\n"
     ]
    }
   ],
   "source": [
    "#Answer1:\n",
    "\n",
    "def recur_fibonacci(n):\n",
    "   if n <= 1:\n",
    "       return n\n",
    "   else:\n",
    "       return(recur_fibonacci(n-1) + recur_fibonacci(n-2))\n",
    "       \n",
    "num = int(input(\"Enter the lenght of fabonacci sequence do you want: \"))\n",
    "\n",
    "if num <= 0:\n",
    "   print(\"Enter a positive integer: \")\n",
    "else:\n",
    "   print(\"Fibonacci sequence: \")\n",
    "   for i in range(num):\n",
    "       \n",
    "       print(recur_fibonacci(i))"
   ]
  },
  {
   "cell_type": "code",
   "execution_count": null,
   "id": "799f8ef4-474d-4e7c-9ba2-b7dcbd190d0f",
   "metadata": {},
   "outputs": [],
   "source": [
    "2. Write a Python Program to Find Factorial of Number Using Recursion?"
   ]
  },
  {
   "cell_type": "code",
   "execution_count": 19,
   "id": "642d10a7-16a9-416a-a978-57714f600fa8",
   "metadata": {},
   "outputs": [
    {
     "name": "stdin",
     "output_type": "stream",
     "text": [
      "Enter the number:  5\n"
     ]
    },
    {
     "name": "stdout",
     "output_type": "stream",
     "text": [
      "The factorial of given number is: 120\n"
     ]
    }
   ],
   "source": [
    "#Answer2: \n",
    "\n",
    "def recur_factorial(n):\n",
    "    \n",
    "    if n == 1:\n",
    "        return 1\n",
    "    else:\n",
    "        return( n * recur_factorial(n-1)) \n",
    "    return   \n",
    "num = int(input(\"Enter the number: \"))\n",
    "\n",
    "if num < 1:\n",
    "    print(\"Enter the positive number\")\n",
    "else:\n",
    "    print(f\"The factorial of given number is: {recur_factorial(num)}\")\n",
    "      "
   ]
  },
  {
   "cell_type": "code",
   "execution_count": null,
   "id": "4bd48465-1cf1-4fca-ba78-74dd146be3db",
   "metadata": {},
   "outputs": [],
   "source": [
    "3. Write a Python Program to calculate your Body Mass Index?"
   ]
  },
  {
   "cell_type": "code",
   "execution_count": 4,
   "id": "5765b216-12dd-4db4-846a-27aa8d64254d",
   "metadata": {},
   "outputs": [],
   "source": [
    "#Answer3:\n",
    "\n",
    "def BMI_calculator():\n",
    "    \n",
    "    weight = float(input(\"Enter the weight: \"))\n",
    "    height = float(input(\"Enter the height in cm: \"))\n",
    "    \n",
    "    height = height/100  # height converting into meter\n",
    "    bmi = weight/height**2\n",
    "    \n",
    "    print(f\"Body Mass Index of the person is: {bmi}\")\n",
    "    \n",
    "    if bmi < 18.5:\n",
    "        print(\"The person is under weight\")\n",
    "        \n",
    "    elif (bmi > 18.5) and ( bmi < 25):\n",
    "        print(\"The person is healthy\")\n",
    "        \n",
    "    elif (bmi > 25) and (bmi < 30):\n",
    "        print(\"The person is over weight\")\n",
    "        \n",
    "    else:\n",
    "        print(\"The person is obesity\")\n",
    "    \n",
    "    return\n",
    "        "
   ]
  },
  {
   "cell_type": "code",
   "execution_count": 5,
   "id": "c94ce287-b29f-4aab-a447-601080523254",
   "metadata": {},
   "outputs": [
    {
     "name": "stdin",
     "output_type": "stream",
     "text": [
      "Enter the weight:  55\n",
      "Enter the height in cm:  170\n"
     ]
    },
    {
     "name": "stdout",
     "output_type": "stream",
     "text": [
      "Body Mass Index of the person is: 19.031141868512112\n",
      "The person is healthy\n"
     ]
    }
   ],
   "source": [
    "BMI_calculator()"
   ]
  },
  {
   "cell_type": "code",
   "execution_count": null,
   "id": "9e0a9750-335b-4a7c-a226-2fdf7d1742d9",
   "metadata": {},
   "outputs": [],
   "source": [
    "4. Write a Python Program to calculate the natural logarithm of any number?"
   ]
  },
  {
   "cell_type": "code",
   "execution_count": 1,
   "id": "7e8d9db4-a5b7-450a-aece-31e729a455aa",
   "metadata": {},
   "outputs": [
    {
     "name": "stdin",
     "output_type": "stream",
     "text": [
      "Enter the number:  8\n"
     ]
    },
    {
     "name": "stdout",
     "output_type": "stream",
     "text": [
      "The natural logarithm of 8 is: 2.0794415416798357\n"
     ]
    }
   ],
   "source": [
    "#Answer4:\n",
    "\n",
    "import math\n",
    "\n",
    "num = int(input(\"Enter the number: \"))\n",
    "\n",
    "ans = math.log(num)\n",
    "\n",
    "print(f\"The natural logarithm of {num} is: {ans}\")"
   ]
  },
  {
   "cell_type": "code",
   "execution_count": null,
   "id": "1692eb7c-85c2-4d0e-acad-cc367939aabb",
   "metadata": {},
   "outputs": [],
   "source": [
    "5. Write a Python Program for cube sum of first n natural numbers?"
   ]
  },
  {
   "cell_type": "code",
   "execution_count": 33,
   "id": "a504d5e2-3d2a-4204-a383-ea178dea6be0",
   "metadata": {},
   "outputs": [],
   "source": [
    "#Answer5:\n",
    "\n",
    "def cube_of_no():\n",
    "    sum = 0\n",
    "    n = int(input(\"Enter the n natural no: \"))\n",
    "    \n",
    "    if n<1:\n",
    "        print(\"Enter positive integer\")\n",
    "    else:\n",
    "        for i in range(1,n+1):\n",
    "            sum = sum + i**3\n",
    "        print(f\"cube sum of first {n} natural number: {sum}\")    \n",
    "        return "
   ]
  },
  {
   "cell_type": "code",
   "execution_count": 34,
   "id": "599cf2cd-2aaa-44c8-9b73-0f2e6742adf3",
   "metadata": {},
   "outputs": [
    {
     "name": "stdin",
     "output_type": "stream",
     "text": [
      "Enter the n natural no:  13\n"
     ]
    },
    {
     "name": "stdout",
     "output_type": "stream",
     "text": [
      "cube sum of first 13 natural number: 8281\n"
     ]
    }
   ],
   "source": [
    "cube_of_no()"
   ]
  }
 ],
 "metadata": {
  "kernelspec": {
   "display_name": "Python 3 (ipykernel)",
   "language": "python",
   "name": "python3"
  },
  "language_info": {
   "codemirror_mode": {
    "name": "ipython",
    "version": 3
   },
   "file_extension": ".py",
   "mimetype": "text/x-python",
   "name": "python",
   "nbconvert_exporter": "python",
   "pygments_lexer": "ipython3",
   "version": "3.10.6"
  }
 },
 "nbformat": 4,
 "nbformat_minor": 5
}
