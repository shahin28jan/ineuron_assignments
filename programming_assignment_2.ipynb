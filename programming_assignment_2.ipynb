{
 "cells": [
  {
   "cell_type": "code",
   "execution_count": null,
   "id": "aa5767fc-419a-40cc-9349-63afb429d06c",
   "metadata": {},
   "outputs": [],
   "source": [
    "1. Write a Python program to convert kilometers to miles?"
   ]
  },
  {
   "cell_type": "code",
   "execution_count": 13,
   "id": "fa152ead-7e94-4fee-a7f9-72b4aa5b4f4a",
   "metadata": {},
   "outputs": [
    {
     "name": "stdin",
     "output_type": "stream",
     "text": [
      "Enter the kilometer value:  100\n"
     ]
    },
    {
     "name": "stdout",
     "output_type": "stream",
     "text": [
      "kilometer value in miles: 62.137100000000004\n"
     ]
    }
   ],
   "source": [
    "#Answer1:\n",
    "\n",
    "kilo_value = float(input(\"Enter the kilometer value: \"))\n",
    "mile_value = 0\n",
    "mile_value = kilo_value * 0.621371        #1 kilometer = 0.621371 mile\n",
    "\n",
    "print(f\"kilometer value in miles: {mile_value}\")"
   ]
  },
  {
   "cell_type": "code",
   "execution_count": null,
   "id": "072e738a-e3bb-4739-94f5-f7745db81e0b",
   "metadata": {},
   "outputs": [],
   "source": [
    "2. Write a Python program to convert Celsius to Fahrenheit?"
   ]
  },
  {
   "cell_type": "code",
   "execution_count": 6,
   "id": "97b44617-121d-46d7-95a5-bbdc90ba1d3b",
   "metadata": {},
   "outputs": [
    {
     "name": "stdin",
     "output_type": "stream",
     "text": [
      "Enter the celsius value:  67\n"
     ]
    },
    {
     "name": "stdout",
     "output_type": "stream",
     "text": [
      "Temperature in fahrenheit: 152.60000000000002\n"
     ]
    }
   ],
   "source": [
    "#Answer2:\n",
    "\n",
    "celsius_value = float(input(\"Enter the celsius value: \"))\n",
    "fahrenheit_value = 0\n",
    "fahrenheit_value = 9/5 * celsius_value + 32                    \n",
    "print(f\"Temperature in fahrenheit: {fahrenheit_value}\")"
   ]
  },
  {
   "cell_type": "code",
   "execution_count": null,
   "id": "7a583ad2-3073-4049-acb4-d17fd7e9dfea",
   "metadata": {},
   "outputs": [],
   "source": [
    "3. Write a Python program to display calendar?"
   ]
  },
  {
   "cell_type": "code",
   "execution_count": 11,
   "id": "50068f9f-d46f-4157-9eab-18a25882516c",
   "metadata": {},
   "outputs": [
    {
     "name": "stdin",
     "output_type": "stream",
     "text": [
      "Enter the year:  2023\n",
      "Enter the month in number:  3\n"
     ]
    },
    {
     "name": "stdout",
     "output_type": "stream",
     "text": [
      "     March 2023\n",
      "Mo Tu We Th Fr Sa Su\n",
      "       1  2  3  4  5\n",
      " 6  7  8  9 10 11 12\n",
      "13 14 15 16 17 18 19\n",
      "20 21 22 23 24 25 26\n",
      "27 28 29 30 31\n",
      "\n"
     ]
    }
   ],
   "source": [
    "#Answer3:\n",
    "\n",
    "import calendar      #importing calender lib\n",
    "\n",
    "yy = int(input(\"Enter the year: \"))\n",
    "mm = int(input(\"Enter the month in number: \"))\n",
    "\n",
    "# display the calendar\n",
    "               \n",
    "print(f\"{calendar.month(yy, mm)}\")\n",
    "\n"
   ]
  },
  {
   "cell_type": "code",
   "execution_count": null,
   "id": "f12e285d-0cb7-4658-86a6-1520ae6c2884",
   "metadata": {},
   "outputs": [],
   "source": [
    "4. Write a Python program to solve quadratic equation?"
   ]
  },
  {
   "cell_type": "code",
   "execution_count": 12,
   "id": "598b52d3-d566-4694-a1c1-f960d561b5a2",
   "metadata": {},
   "outputs": [
    {
     "name": "stdout",
     "output_type": "stream",
     "text": [
      "The solution are (-3+0j) and (-2+0j)\n"
     ]
    }
   ],
   "source": [
    "#Answer4:\n",
    "\n",
    "import cmath\n",
    "\n",
    "a = 1\n",
    "b = 5\n",
    "c = 6\n",
    "\n",
    "# calculate the discriminant\n",
    "d = (b**2) - (4*a*c)\n",
    "\n",
    "# find two solutions\n",
    "sol1 = (-b-cmath.sqrt(d))/(2*a)\n",
    "sol2 = (-b+cmath.sqrt(d))/(2*a)\n",
    "\n",
    "print('The solution are {0} and {1}'.format(sol1,sol2))"
   ]
  },
  {
   "cell_type": "code",
   "execution_count": null,
   "id": "7cba57f6-3f38-4f6e-ab25-df8701a312e0",
   "metadata": {},
   "outputs": [],
   "source": [
    "5. Write a Python program to swap two variables without temp variable?"
   ]
  },
  {
   "cell_type": "code",
   "execution_count": 5,
   "id": "a4d5e3d2-6802-40f2-bce8-6298c5b048cc",
   "metadata": {},
   "outputs": [
    {
     "name": "stdin",
     "output_type": "stream",
     "text": [
      "Enter the num1:  45\n",
      "Enter the num2:  95\n"
     ]
    },
    {
     "name": "stdout",
     "output_type": "stream",
     "text": [
      "-------------\n",
      "Before swapping: \n",
      "num1: 45 num2: 95\n",
      "-------------\n",
      "After swapping: \n",
      "num1: 95 num2: 45\n"
     ]
    }
   ],
   "source": [
    "#Answer5:\n",
    "\n",
    "num1 = int(input(\"Enter the num1: \"))\n",
    "num2 = int(input(\"Enter the num2: \"))\n",
    " \n",
    "print(\"-------------\")\n",
    "\n",
    "print(\"Before swapping: \")\n",
    "print(f\"num1: {num1} num2: {num2}\")\n",
    "\n",
    "print(\"-------------\")\n",
    "\n",
    "# code to swap 'num1' and 'num2'\n",
    "num1 , num2 = num2 , num1\n",
    " \n",
    "print (\"After swapping: \")\n",
    "print(f\"num1: {num1} num2: {num2}\")"
   ]
  },
  {
   "cell_type": "code",
   "execution_count": null,
   "id": "f7b8ebf3-6226-451c-9b3b-8d95fa439137",
   "metadata": {},
   "outputs": [],
   "source": []
  }
 ],
 "metadata": {
  "kernelspec": {
   "display_name": "Python 3 (ipykernel)",
   "language": "python",
   "name": "python3"
  },
  "language_info": {
   "codemirror_mode": {
    "name": "ipython",
    "version": 3
   },
   "file_extension": ".py",
   "mimetype": "text/x-python",
   "name": "python",
   "nbconvert_exporter": "python",
   "pygments_lexer": "ipython3",
   "version": "3.10.6"
  }
 },
 "nbformat": 4,
 "nbformat_minor": 5
}
