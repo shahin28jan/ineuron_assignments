{
 "cells": [
  {
   "cell_type": "code",
   "execution_count": null,
   "id": "ae958673-f1d4-4564-bcf6-d77f1d4d74fb",
   "metadata": {},
   "outputs": [],
   "source": [
    "1. Write a Python Program to Check if a Number is Positive, Negative or Zero?"
   ]
  },
  {
   "cell_type": "code",
   "execution_count": 8,
   "id": "fc5ee867-2d9a-45f1-9630-d2c52ba549ea",
   "metadata": {},
   "outputs": [
    {
     "name": "stdin",
     "output_type": "stream",
     "text": [
      "Enter a number:  0.56\n"
     ]
    },
    {
     "name": "stdout",
     "output_type": "stream",
     "text": [
      "Number is positive: 0.56\n"
     ]
    }
   ],
   "source": [
    "#Answer1:\n",
    "\n",
    "num = float(input(\"Enter a number: \"))\n",
    "if num > 0:\n",
    "    print(f\"Number is positive: {num}\")\n",
    "elif num < 0:\n",
    "    print(f\"Number is negative: {num}\")\n",
    "else:\n",
    "    print(f\"Number is zero: {num}\")"
   ]
  },
  {
   "cell_type": "code",
   "execution_count": null,
   "id": "f532fa7e-0fa1-4560-a533-965ceb40214c",
   "metadata": {},
   "outputs": [],
   "source": [
    "2. Write a Python Program to Check if a Number is Odd or Even?"
   ]
  },
  {
   "cell_type": "code",
   "execution_count": 14,
   "id": "7fc0b6be-5724-49f3-ad60-b7b9846e00f5",
   "metadata": {},
   "outputs": [
    {
     "name": "stdin",
     "output_type": "stream",
     "text": [
      "Enter a number:  54667\n"
     ]
    },
    {
     "name": "stdout",
     "output_type": "stream",
     "text": [
      "Number 54667 is odd\n"
     ]
    }
   ],
   "source": [
    "#Answer2:\n",
    "\n",
    "num = int(input(\"Enter a number: \"))\n",
    "\n",
    "if num%2 == 0:\n",
    "    print(f\"Number {num} is even\")\n",
    "else:\n",
    "    print(f\"Number {num} is odd\")"
   ]
  },
  {
   "cell_type": "code",
   "execution_count": null,
   "id": "871c76c1-57b2-4c8d-a290-904d5667e895",
   "metadata": {},
   "outputs": [],
   "source": [
    "3. Write a Python Program to Check Leap Year?"
   ]
  },
  {
   "cell_type": "code",
   "execution_count": 16,
   "id": "09ffdb3c-c942-4562-bb4b-ba808ab8c3e7",
   "metadata": {},
   "outputs": [
    {
     "name": "stdin",
     "output_type": "stream",
     "text": [
      "Enter year:  2024\n"
     ]
    },
    {
     "name": "stdout",
     "output_type": "stream",
     "text": [
      "year 2024 ia a leap year\n"
     ]
    }
   ],
   "source": [
    "#Answer3: \n",
    "\n",
    "year = int(input(\"Enter year: \"))\n",
    "\n",
    "if year%4 == 0:\n",
    "    print(f\"year {year} ia a leap year\")\n",
    "else:\n",
    "    print(f\"year {year} ia not a leap year\")\n",
    "    "
   ]
  },
  {
   "cell_type": "code",
   "execution_count": null,
   "id": "7b1e1d7f-2de7-4584-a7d6-6723011fc6c3",
   "metadata": {},
   "outputs": [],
   "source": [
    "4. Write a Python Program to Check Prime Number?"
   ]
  },
  {
   "cell_type": "code",
   "execution_count": 37,
   "id": "d7c17f1b-7663-4f87-9bd8-74dd66c7f18a",
   "metadata": {},
   "outputs": [
    {
     "name": "stdin",
     "output_type": "stream",
     "text": [
      "Enter a number:  23\n"
     ]
    },
    {
     "name": "stdout",
     "output_type": "stream",
     "text": [
      "Number 23 is a prime number\n"
     ]
    }
   ],
   "source": [
    "#Answer4:\n",
    "\n",
    "num = int(input(\"Enter a number: \"))\n",
    "\n",
    "result = 0\n",
    "\n",
    "if num == 1:\n",
    "    print(f\"Number {num} is not a prime number\")\n",
    "else:\n",
    "    for i in range(2,num):\n",
    "        if num%i==0:\n",
    "            result = True\n",
    "            break\n",
    "    if result == True:\n",
    "        print(f\"Number {num} is not a prime number\")\n",
    "        \n",
    "    else:\n",
    "        print(f\"Number {num} is a prime number\")\n",
    "    "
   ]
  },
  {
   "cell_type": "code",
   "execution_count": null,
   "id": "7da4aaa5-4d99-4e1a-99b6-031d2131555d",
   "metadata": {},
   "outputs": [],
   "source": [
    "5. Write a Python Program to Print all Prime Numbers in an Interval of 1-10000?"
   ]
  },
  {
   "cell_type": "code",
   "execution_count": null,
   "id": "af8dce00-29aa-485f-8c94-ebeea85019aa",
   "metadata": {},
   "outputs": [],
   "source": [
    "#Answer5:\n",
    "\n",
    "print(\"All prime numbers: \")\n",
    "\n",
    "for num in range(1,10000):\n",
    "    if num > 1:\n",
    "        for i in range(2,num):\n",
    "            if num%i==0:\n",
    "                break\n",
    "        else:\n",
    "            print(num)\n",
    "            "
   ]
  }
 ],
 "metadata": {
  "kernelspec": {
   "display_name": "Python 3 (ipykernel)",
   "language": "python",
   "name": "python3"
  },
  "language_info": {
   "codemirror_mode": {
    "name": "ipython",
    "version": 3
   },
   "file_extension": ".py",
   "mimetype": "text/x-python",
   "name": "python",
   "nbconvert_exporter": "python",
   "pygments_lexer": "ipython3",
   "version": "3.10.6"
  }
 },
 "nbformat": 4,
 "nbformat_minor": 5
}
