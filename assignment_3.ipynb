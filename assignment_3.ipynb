{
 "cells": [
  {
   "cell_type": "code",
   "execution_count": null,
   "id": "46976de4-318a-42e2-8105-4614cfc8c172",
   "metadata": {},
   "outputs": [],
   "source": [
    "1. Why are functions advantageous to have in your programs?"
   ]
  },
  {
   "cell_type": "code",
   "execution_count": null,
   "id": "60c183cb-5435-4edc-b54c-ff29ea40da8c",
   "metadata": {},
   "outputs": [],
   "source": [
    "Answer1: The use of functions makes a program more readable and short because Function reduce the need for duplicate code."
   ]
  },
  {
   "cell_type": "code",
   "execution_count": null,
   "id": "e629c58c-84ea-40b8-925e-aa1b0f0232f8",
   "metadata": {},
   "outputs": [],
   "source": [
    "2. When does the code in a function run: when it's specified or when it's called?"
   ]
  },
  {
   "cell_type": "code",
   "execution_count": null,
   "id": "825adf16-fa62-4724-92d6-d67f3e15515b",
   "metadata": {},
   "outputs": [],
   "source": [
    "Answer2: When we call function, the code in a function is run."
   ]
  },
  {
   "cell_type": "code",
   "execution_count": null,
   "id": "f5872833-acff-4f63-bfb1-088facf8b418",
   "metadata": {},
   "outputs": [],
   "source": [
    "3.What statement creates a function?"
   ]
  },
  {
   "cell_type": "code",
   "execution_count": null,
   "id": "224c02e3-7d50-42fd-b8e8-193866518608",
   "metadata": {},
   "outputs": [],
   "source": [
    "Answer3: def() statement creates a function"
   ]
  },
  {
   "cell_type": "code",
   "execution_count": null,
   "id": "ab1995ae-b22b-470f-b4c4-db6619cc748a",
   "metadata": {},
   "outputs": [],
   "source": [
    "4. What is the difference between a function and a function call?"
   ]
  },
  {
   "cell_type": "code",
   "execution_count": null,
   "id": "ca44deea-739a-46f2-bda8-a3f135b4cf05",
   "metadata": {},
   "outputs": [],
   "source": [
    "Answer4: A function is a set of codes which is create by def() statement and return the required value, While when we call a function with parameters then the control passes to the function and the code written there are executed one by one and return required result."
   ]
  },
  {
   "cell_type": "code",
   "execution_count": null,
   "id": "d84af124-f178-4b55-99f9-f0e81b34a548",
   "metadata": {},
   "outputs": [],
   "source": [
    "5. How many global scopes are there in a Python program? How many local scopes?"
   ]
  },
  {
   "cell_type": "code",
   "execution_count": null,
   "id": "857371a6-2886-459a-986c-2a0089507530",
   "metadata": {},
   "outputs": [],
   "source": [
    "Answer5: In python there is one global scopes. Whenever we called a function, a local scope is created ."
   ]
  },
  {
   "cell_type": "code",
   "execution_count": null,
   "id": "cf3e79ca-e77f-411e-984c-57ad5fd1e183",
   "metadata": {},
   "outputs": [],
   "source": [
    "6. What happens to variables in a local scope when the function call returns?"
   ]
  },
  {
   "cell_type": "code",
   "execution_count": null,
   "id": "89f80145-a37c-427d-ba56-11116265239b",
   "metadata": {},
   "outputs": [],
   "source": [
    "Answer6: local variables are destroyed in a local scope, when the function cell returns."
   ]
  },
  {
   "cell_type": "code",
   "execution_count": null,
   "id": "48ee59e9-599c-4361-9b6e-d44e3a222516",
   "metadata": {},
   "outputs": [],
   "source": [
    "7. What is the concept of a return value? Is it possible to have a return value in an expression?"
   ]
  },
  {
   "cell_type": "code",
   "execution_count": null,
   "id": "c1a1d375-4518-4f6c-b188-56f3beb4d1ad",
   "metadata": {},
   "outputs": [],
   "source": [
    "Answer7: A return is a value that a function returns when codes are excuted. Yes it is possible to have a return value in an expression."
   ]
  },
  {
   "cell_type": "code",
   "execution_count": null,
   "id": "2ce26c89-3bd3-41aa-b643-54649cbafef8",
   "metadata": {},
   "outputs": [],
   "source": [
    "8. If a function does not have a return statement, what is the return value of a call to that function?"
   ]
  },
  {
   "cell_type": "code",
   "execution_count": null,
   "id": "e5d457b9-90c4-4956-a8e5-4e9786599cd8",
   "metadata": {},
   "outputs": [],
   "source": [
    "Answer8: If a function does not have a return statement, then the return value will be None."
   ]
  },
  {
   "cell_type": "code",
   "execution_count": null,
   "id": "41d3ef81-bd5f-4033-99de-e64aafcd1b4d",
   "metadata": {},
   "outputs": [],
   "source": [
    "9. How do you make a function variable refer to the global variable?"
   ]
  },
  {
   "cell_type": "code",
   "execution_count": null,
   "id": "d4b38ab9-1648-4ad1-af73-602308d062f5",
   "metadata": {},
   "outputs": [],
   "source": [
    "Answer9: To create a function variable into a global variable, we can use the global keyword."
   ]
  },
  {
   "cell_type": "code",
   "execution_count": null,
   "id": "87c9ba4e-09bd-42ba-bdbc-7295cb29f1d2",
   "metadata": {},
   "outputs": [],
   "source": [
    "10. What is the data type of None?"
   ]
  },
  {
   "cell_type": "code",
   "execution_count": null,
   "id": "c4d71f91-ff3c-45d1-a8a4-626599b2e5d9",
   "metadata": {},
   "outputs": [],
   "source": [
    "Answer10: The data type of None is NoneType."
   ]
  },
  {
   "cell_type": "code",
   "execution_count": null,
   "id": "917a9248-89c5-4c72-ac02-f49416d3a389",
   "metadata": {},
   "outputs": [],
   "source": [
    "11. What does the sentence import areallyourpetsnamederic do?"
   ]
  },
  {
   "cell_type": "code",
   "execution_count": null,
   "id": "c9fe924b-c945-4e64-b061-3b2a1e4d6ff0",
   "metadata": {},
   "outputs": [],
   "source": [
    "Answer11: That import statement imports a module named areallyourpetsnamederic."
   ]
  },
  {
   "cell_type": "code",
   "execution_count": null,
   "id": "3a725564-fa3a-40e3-a7f8-edfe021c6402",
   "metadata": {},
   "outputs": [],
   "source": [
    "12. If you had a bacon() feature in a spam module, what would you call it after importing spam?"
   ]
  },
  {
   "cell_type": "code",
   "execution_count": null,
   "id": "62bfcb0a-3286-4c0e-a1b7-50ac1a14a60e",
   "metadata": {},
   "outputs": [],
   "source": [
    "Answer12: we can call this function with spam.bacon() statement."
   ]
  },
  {
   "cell_type": "code",
   "execution_count": null,
   "id": "411e46f3-2125-482e-a837-1fe2a31fcac0",
   "metadata": {},
   "outputs": [],
   "source": [
    "13. What can you do to save a programme from crashing if it encounters an error?"
   ]
  },
  {
   "cell_type": "code",
   "execution_count": null,
   "id": "969201dd-bec7-4a88-a65d-dcc79ce08f6b",
   "metadata": {},
   "outputs": [],
   "source": [
    "Answeer13: There are many errors in python. We have to solve that error. There are try statement which allows you to define a block of code to be tested for errors while it is being executed\n",
    "           We can use this."
   ]
  },
  {
   "cell_type": "code",
   "execution_count": null,
   "id": "a45c84ff-d35f-42bf-88ce-ee0234ad9c8d",
   "metadata": {},
   "outputs": [],
   "source": [
    "14. What is the purpose of the try clause? What is the purpose of the except clause?"
   ]
  },
  {
   "cell_type": "code",
   "execution_count": null,
   "id": "5fb94177-348d-47fe-a2c7-79a2ae000fad",
   "metadata": {},
   "outputs": [],
   "source": [
    "Answer14: The code that could potentially cause an error goes in the try clause.\n",
    "\n",
    "The code that executes if an error happens goes in the except clause."
   ]
  }
 ],
 "metadata": {
  "kernelspec": {
   "display_name": "Python 3 (ipykernel)",
   "language": "python",
   "name": "python3"
  },
  "language_info": {
   "codemirror_mode": {
    "name": "ipython",
    "version": 3
   },
   "file_extension": ".py",
   "mimetype": "text/x-python",
   "name": "python",
   "nbconvert_exporter": "python",
   "pygments_lexer": "ipython3",
   "version": "3.10.6"
  }
 },
 "nbformat": 4,
 "nbformat_minor": 5
}
