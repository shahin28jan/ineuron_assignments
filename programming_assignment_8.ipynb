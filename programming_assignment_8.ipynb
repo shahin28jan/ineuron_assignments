{
 "cells": [
  {
   "cell_type": "code",
   "execution_count": null,
   "id": "e40bc6a6-6ab9-4d09-89cf-59307ed1bda4",
   "metadata": {},
   "outputs": [],
   "source": [
    "1. Write a Python Program to Add Two Matrices?"
   ]
  },
  {
   "cell_type": "code",
   "execution_count": 21,
   "id": "ea9faec2-f917-4236-984b-9bcad66e748e",
   "metadata": {},
   "outputs": [
    {
     "name": "stdout",
     "output_type": "stream",
     "text": [
      "[[3 2 3]\n",
      " [3 2 2]\n",
      " [4 4 3]]\n",
      "+\n",
      "[[2 2 3]\n",
      " [3 2 3]\n",
      " [4 4 4]]\n",
      "=\n",
      "[[5 4 6]\n",
      " [6 4 5]\n",
      " [8 8 7]]\n"
     ]
    }
   ],
   "source": [
    "#Answer1:\n",
    "\n",
    "import numpy as np\n",
    "mat1 = np.random.randint(2,5,size=(3,3))\n",
    "mat2 = np.random.randint(2,5,size=(3,3))\n",
    "mat3 = np.add(mat1,mat2)\n",
    "print(mat1)\n",
    "print(\"+\")\n",
    "print(mat2)\n",
    "print(\"=\")\n",
    "print(mat3)"
   ]
  },
  {
   "cell_type": "code",
   "execution_count": null,
   "id": "c8056788-bf2b-4b45-bb3b-cefee5b2e00c",
   "metadata": {},
   "outputs": [],
   "source": [
    "2. Write a Python Program to Multiply Two Matrices?"
   ]
  },
  {
   "cell_type": "code",
   "execution_count": 23,
   "id": "f39ce895-daaf-45e8-a426-40b97cef5590",
   "metadata": {},
   "outputs": [
    {
     "name": "stdout",
     "output_type": "stream",
     "text": [
      "[[3 4 3]\n",
      " [4 4 2]\n",
      " [3 2 2]]\n",
      "*\n",
      "[[4 2 4]\n",
      " [2 3 3]\n",
      " [4 2 2]]\n",
      "=\n",
      "[[32 24 30]\n",
      " [32 24 32]\n",
      " [24 16 22]]\n"
     ]
    }
   ],
   "source": [
    "#Answer2:\n",
    "\n",
    "import numpy as np\n",
    "mat1 = np.random.randint(2,5,size=(3,3))\n",
    "mat2 = np.random.randint(2,5,size=(3,3))\n",
    "mat3 = np.dot(mat1,mat2)\n",
    "print(mat1)\n",
    "print(\"*\")\n",
    "print(mat2)\n",
    "print(\"=\")\n",
    "print(mat3)"
   ]
  },
  {
   "cell_type": "code",
   "execution_count": null,
   "id": "22cc74a8-24be-4fc9-bacb-4dd04f6f5cfb",
   "metadata": {},
   "outputs": [],
   "source": [
    "3. Write a Python Program to Transpose a Matrix?"
   ]
  },
  {
   "cell_type": "code",
   "execution_count": 28,
   "id": "5c856b65-6611-4dec-8726-273079a9d187",
   "metadata": {},
   "outputs": [
    {
     "name": "stdout",
     "output_type": "stream",
     "text": [
      "Matrix before transpose:\n",
      "[[3 2 3 4]\n",
      " [3 3 2 2]\n",
      " [3 2 2 3]]\n",
      "Matrix after transpose: \n",
      "[[3 3 3]\n",
      " [2 3 2]\n",
      " [3 2 2]\n",
      " [4 2 3]]\n"
     ]
    }
   ],
   "source": [
    "#Answer3:\n",
    "\n",
    "import numpy as np\n",
    "mat1 = np.random.randint(2,5,size=(3,4))\n",
    "mat2 = mat1.transpose()\n",
    "print(\"Matrix before transpose:\")\n",
    "print(mat1)\n",
    "print(\"Matrix after transpose: \")\n",
    "print(mat2)\n",
    "\n",
    "\n"
   ]
  },
  {
   "cell_type": "code",
   "execution_count": null,
   "id": "fb5d290e-88ea-47bc-ac44-e1fd0299cef8",
   "metadata": {},
   "outputs": [],
   "source": [
    "4. Write a Python Program to Sort Words in Alphabetic Order?"
   ]
  },
  {
   "cell_type": "code",
   "execution_count": 35,
   "id": "9083385d-188f-4336-acb9-a4417ba78025",
   "metadata": {},
   "outputs": [
    {
     "name": "stdout",
     "output_type": "stream",
     "text": [
      "['orange', 'olive', 'apple', 'banana', 'apricote']\n",
      "After sorting the list:  ['apple', 'apricote', 'banana', 'olive', 'orange']\n"
     ]
    }
   ],
   "source": [
    "#Answer4:\n",
    "\n",
    "list = [\"orange\", \"olive\", \"apple\", \"banana\", \"apricote\"]\n",
    "sorted_list = sorted(list)\n",
    "print(list)\n",
    "print(\"After sorting the list: \",sorted_list)"
   ]
  },
  {
   "cell_type": "code",
   "execution_count": null,
   "id": "15d06675-f058-4e54-9dfc-915f3013b6b1",
   "metadata": {},
   "outputs": [],
   "source": [
    "5. Write a Python Program to Remove Punctuation From a String?"
   ]
  },
  {
   "cell_type": "code",
   "execution_count": 57,
   "id": "f52345ba-0596-4366-9e90-d6bee47969e7",
   "metadata": {},
   "outputs": [
    {
     "name": "stdout",
     "output_type": "stream",
     "text": [
      "String with Punctuation:  Hi! My name is Shahin. Wow! its raining.\n",
      "String without Punctuation:  Hi My name is Shahin Wow its raining\n"
     ]
    }
   ],
   "source": [
    "#Answer5:\n",
    "import re\n",
    " \n",
    "string1 = \"Hi! My name is Shahin. Wow! its raining.\"\n",
    "string2 = re.sub(r'[^\\w\\s]','',string1)\n",
    " \n",
    "print('String with Punctuation: ', string1)\n",
    "print('String without Punctuation: ', string2)"
   ]
  },
  {
   "cell_type": "code",
   "execution_count": null,
   "id": "8cc953e1-95ed-407b-9fe0-be0cb2b0bfcc",
   "metadata": {},
   "outputs": [],
   "source": []
  }
 ],
 "metadata": {
  "kernelspec": {
   "display_name": "Python 3 (ipykernel)",
   "language": "python",
   "name": "python3"
  },
  "language_info": {
   "codemirror_mode": {
    "name": "ipython",
    "version": 3
   },
   "file_extension": ".py",
   "mimetype": "text/x-python",
   "name": "python",
   "nbconvert_exporter": "python",
   "pygments_lexer": "ipython3",
   "version": "3.10.6"
  }
 },
 "nbformat": 4,
 "nbformat_minor": 5
}
