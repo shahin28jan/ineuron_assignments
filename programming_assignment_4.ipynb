{
 "cells": [
  {
   "cell_type": "code",
   "execution_count": null,
   "id": "2a61c4e0-3c28-4c37-8426-3fdacb6e479c",
   "metadata": {},
   "outputs": [],
   "source": [
    "1. Write a Python Program to Find the Factorial of a Number?"
   ]
  },
  {
   "cell_type": "code",
   "execution_count": 5,
   "id": "b39a292a-875b-4bb4-ad1f-8f6cb90c94c1",
   "metadata": {},
   "outputs": [
    {
     "name": "stdin",
     "output_type": "stream",
     "text": [
      "Enter a number:  6\n"
     ]
    },
    {
     "name": "stdout",
     "output_type": "stream",
     "text": [
      "Factorial of given number: 720\n"
     ]
    }
   ],
   "source": [
    "#Answer1:\n",
    "\n",
    "num = int(input(\"Enter a number: \"))\n",
    "for i in range(1,num):\n",
    "    num = i*num\n",
    "print(f\"Factorial of given number: {num}\")    "
   ]
  },
  {
   "cell_type": "code",
   "execution_count": null,
   "id": "33e9e0d5-6bd1-42a2-8b0a-8ab54f7731b5",
   "metadata": {},
   "outputs": [],
   "source": [
    "2. Write a Python Program to Display the multiplication Table?"
   ]
  },
  {
   "cell_type": "code",
   "execution_count": 69,
   "id": "94c2d1ae-b2e9-4663-af85-d9b994f51ff3",
   "metadata": {},
   "outputs": [
    {
     "name": "stdin",
     "output_type": "stream",
     "text": [
      "table of:  25\n"
     ]
    },
    {
     "name": "stdout",
     "output_type": "stream",
     "text": [
      " 25 x 1 = 25\n",
      " 25 x 2 = 50\n",
      " 25 x 3 = 75\n",
      " 25 x 4 = 100\n",
      " 25 x 5 = 125\n",
      " 25 x 6 = 150\n",
      " 25 x 7 = 175\n",
      " 25 x 8 = 200\n",
      " 25 x 9 = 225\n",
      " 25 x 10 = 250\n"
     ]
    }
   ],
   "source": [
    "#Answer2:\n",
    "\n",
    "num = int(input(\"table of: \"))\n",
    "if num<1:\n",
    "    print(\"Enter the positive number\")\n",
    "else:\n",
    "    i = 1\n",
    "    while i <= 10:\n",
    "        print(f\" {num} x {i} = {num * i}\")\n",
    "        i = i + 1"
   ]
  },
  {
   "cell_type": "code",
   "execution_count": null,
   "id": "60afffec-f999-4b3a-83b6-643ce16c35d5",
   "metadata": {},
   "outputs": [],
   "source": [
    "3. Write a Python Program to Print the Fibonacci sequence?"
   ]
  },
  {
   "cell_type": "code",
   "execution_count": 38,
   "id": "089470b3-a913-4287-a95a-783258961bed",
   "metadata": {},
   "outputs": [
    {
     "name": "stdin",
     "output_type": "stream",
     "text": [
      "Enter the lenght of fabonacci sequence:  7\n"
     ]
    },
    {
     "name": "stdout",
     "output_type": "stream",
     "text": [
      "Fabonacci sequence: \n",
      "0\n",
      "1\n",
      "1\n",
      "2\n",
      "3\n",
      "5\n",
      "8\n"
     ]
    }
   ],
   "source": [
    "#Answer:\n",
    "\n",
    "seq_len = int(input(\"Enter the lenght of fabonacci sequence: \"))\n",
    "a1, a2 = 0 , 1 \n",
    "i=0\n",
    "if seq_len<=0:\n",
    "    print(\"Enter positive no.\")\n",
    "elif seq_len==1:\n",
    "    print(f\"Fabonacci sequence of {seq_len}: 0\")\n",
    "else:\n",
    "    print(\"Fabonacci sequence: \")     \n",
    "          \n",
    "    while i<seq_len:\n",
    "        print(a1)\n",
    "        a3=a1+a2\n",
    "        a1=a2\n",
    "        a2=a3\n",
    "        i = i+1        "
   ]
  },
  {
   "cell_type": "code",
   "execution_count": null,
   "id": "e0da4b05-bb69-48b3-99be-41771f8e4c81",
   "metadata": {},
   "outputs": [],
   "source": [
    "4. Write a Python Program to Check Armstrong Number?"
   ]
  },
  {
   "cell_type": "code",
   "execution_count": 64,
   "id": "3a6004cf-9c89-4ee8-a92b-5d54f8f0dad3",
   "metadata": {},
   "outputs": [
    {
     "name": "stdin",
     "output_type": "stream",
     "text": [
      "Enter a number:  371\n"
     ]
    },
    {
     "name": "stdout",
     "output_type": "stream",
     "text": [
      "Number 371 is Armstrong Number\n"
     ]
    }
   ],
   "source": [
    "#Answer4:\n",
    "\n",
    "num = int(input(\"Enter a number: \"))\n",
    "\n",
    "sum = 0\n",
    "temp = num\n",
    "\n",
    "while temp > 1:\n",
    "    digit = temp % 10\n",
    "    sum = sum + digit**3\n",
    "    \n",
    "    temp//=10\n",
    " \n",
    "if sum == num:\n",
    "    print(f\"Number {num} is Armstrong Number\")\n",
    "    \n",
    "else:\n",
    "    print(f\"Number {num} is not Armstrong Number\")\n",
    "    \n",
    "\n"
   ]
  },
  {
   "cell_type": "code",
   "execution_count": null,
   "id": "2e969f8d-5cad-44be-91d5-408be055b409",
   "metadata": {},
   "outputs": [],
   "source": [
    "6. Write a Python Program to Find the Sum of Natural Numbers?"
   ]
  },
  {
   "cell_type": "code",
   "execution_count": 59,
   "id": "1e1c4fcf-56c7-4b12-b1f6-7ef1dcb1456b",
   "metadata": {},
   "outputs": [
    {
     "name": "stdin",
     "output_type": "stream",
     "text": [
      "Enter the number upto which you want to add naturals number:  100\n"
     ]
    },
    {
     "name": "stdout",
     "output_type": "stream",
     "text": [
      "Sum of natural numbers upto given number: 5050\n"
     ]
    }
   ],
   "source": [
    "#Answer5:\n",
    "\n",
    "num = int(input(\"Enter the number upto which you want to add naturals number: \"))\n",
    "sum =0\n",
    "if num < 1:\n",
    "    print(\"Please enter positive integer\")\n",
    "for i in range(1,num+1):\n",
    "    sum = sum + i \n",
    "print(f\"Sum of natural numbers upto given number: {sum}\")"
   ]
  },
  {
   "cell_type": "markdown",
   "id": "6f701bd9-f760-40ca-bcfb-cfac5fcfa562",
   "metadata": {},
   "source": [
    "#### "
   ]
  }
 ],
 "metadata": {
  "kernelspec": {
   "display_name": "Python 3 (ipykernel)",
   "language": "python",
   "name": "python3"
  },
  "language_info": {
   "codemirror_mode": {
    "name": "ipython",
    "version": 3
   },
   "file_extension": ".py",
   "mimetype": "text/x-python",
   "name": "python",
   "nbconvert_exporter": "python",
   "pygments_lexer": "ipython3",
   "version": "3.10.6"
  }
 },
 "nbformat": 4,
 "nbformat_minor": 5
}
