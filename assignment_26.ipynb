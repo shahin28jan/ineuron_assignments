{
 "cells": [
  {
   "cell_type": "code",
   "execution_count": null,
   "id": "ff8fd2d7-63c3-406f-85ff-ad621439077b",
   "metadata": {},
   "outputs": [],
   "source": [
    "1. Write a Python program to print \"Hello Python\"?"
   ]
  },
  {
   "cell_type": "code",
   "execution_count": null,
   "id": "233956c1-d313-4b88-923b-fbf82c6b9a42",
   "metadata": {},
   "outputs": [],
   "source": [
    "#Answer1:\n",
    "    \n",
    "print(\"Hello Python\")"
   ]
  },
  {
   "cell_type": "code",
   "execution_count": null,
   "id": "30ee3989-edbd-43b2-9b66-3a0b52c8ec4a",
   "metadata": {},
   "outputs": [],
   "source": [
    "2. Write a Python program to do arithmetical operations addition and division.?"
   ]
  },
  {
   "cell_type": "code",
   "execution_count": 18,
   "id": "7bb840d3-3e8d-465f-b9b8-e421a3a13098",
   "metadata": {},
   "outputs": [
    {
     "name": "stdin",
     "output_type": "stream",
     "text": [
      "Enter the num1 =  45\n",
      "Enter the num2 =  9\n",
      "Enter the operation addition/division:  division\n"
     ]
    },
    {
     "name": "stdout",
     "output_type": "stream",
     "text": [
      "After division result is: 5.0\n"
     ]
    }
   ],
   "source": [
    "#Answer2:\n",
    "\n",
    "num1 = int(input(\"Enter the num1 = \"))\n",
    "num2 = int(input(\"Enter the num2 = \"))\n",
    "operation = input(\"Enter the operation addition/division: \")\n",
    "\n",
    "if operation == 'addition':\n",
    "    print(f\"After addition result is: {num1 + num2}\")\n",
    "else:\n",
    "    print(f\"After division result is: {num1/num2}\")\n",
    "    "
   ]
  },
  {
   "cell_type": "code",
   "execution_count": null,
   "id": "9a1904c0-19c0-485f-8c40-3a5641ecae50",
   "metadata": {},
   "outputs": [],
   "source": [
    "3. Write a Python program to find the area of a triangle?"
   ]
  },
  {
   "cell_type": "code",
   "execution_count": 16,
   "id": "bed5ff4d-132a-4d2c-8bcd-3561af0edfdf",
   "metadata": {},
   "outputs": [
    {
     "name": "stdin",
     "output_type": "stream",
     "text": [
      "Enter the height of a given triangle =  4\n",
      "Enter the base of a given triangle =  9\n"
     ]
    },
    {
     "name": "stdout",
     "output_type": "stream",
     "text": [
      "Area of given triangle is: 18.0\n"
     ]
    }
   ],
   "source": [
    "#Answer3:\n",
    "\n",
    "height = int(input(\"Enter the height of a given triangle = \"))\n",
    "base = int(input(\"Enter the base of a given triangle = \"))\n",
    "\n",
    "area_of_triangle = (height*base)/2\n",
    "\n",
    "print(f\"Area of given triangle is: {area_of_triangle}\")"
   ]
  },
  {
   "cell_type": "code",
   "execution_count": null,
   "id": "172d3410-81cd-4923-8db0-94a4d5938bd3",
   "metadata": {},
   "outputs": [],
   "source": [
    "4. Write a Python program to swap two variables?"
   ]
  },
  {
   "cell_type": "code",
   "execution_count": 14,
   "id": "98b1cc96-ad4d-4314-97d2-e8bc8b7ec1c2",
   "metadata": {},
   "outputs": [
    {
     "name": "stdin",
     "output_type": "stream",
     "text": [
      "Enter the variable 1 =  56\n",
      "Enter the variable 2 =  77\n"
     ]
    },
    {
     "name": "stdout",
     "output_type": "stream",
     "text": [
      "after swaping variable 1 =  77 variable 2 =  56\n"
     ]
    }
   ],
   "source": [
    "#Answer4:\n",
    "\n",
    "var1 = int(input(\"Enter the variable 1 = \"))\n",
    "var2 = int(input(\"Enter the variable 2 = \"))\n",
    "\n",
    "temp_var = var1\n",
    "var1 = var2\n",
    "var2 = temp_var\n",
    "\n",
    "print(f\"after swaping variable 1 =  {var1} variable 2 =  {var2}\")"
   ]
  },
  {
   "cell_type": "code",
   "execution_count": 25,
   "id": "0f37a765-976b-4756-867e-9fb763f1ba21",
   "metadata": {},
   "outputs": [
    {
     "name": "stdout",
     "output_type": "stream",
     "text": [
      "Requirement already satisfied: numpy in /opt/conda/lib/python3.10/site-packages (1.23.4)\n",
      "Note: you may need to restart the kernel to use updated packages.\n"
     ]
    }
   ],
   "source": [
    "pip install numpy"
   ]
  },
  {
   "cell_type": "code",
   "execution_count": null,
   "id": "4d69feb6-4223-4185-9d19-1faebdbafb6b",
   "metadata": {},
   "outputs": [],
   "source": [
    "5. Write a Python program to generate a random number?"
   ]
  },
  {
   "cell_type": "code",
   "execution_count": null,
   "id": "9725e38e-8b46-4e49-9c0d-2aee557ad1ca",
   "metadata": {},
   "outputs": [
    {
     "name": "stdout",
     "output_type": "stream",
     "text": [
      "A random no = 44\n"
     ]
    }
   ],
   "source": [
    "#Answer5:\n",
    "\n",
    "import random\n",
    "\n",
    "print(f\"A random no = {random.randint(0,100,)}\")"
   ]
  }
 ],
 "metadata": {
  "kernelspec": {
   "display_name": "Python 3 (ipykernel)",
   "language": "python",
   "name": "python3"
  },
  "language_info": {
   "codemirror_mode": {
    "name": "ipython",
    "version": 3
   },
   "file_extension": ".py",
   "mimetype": "text/x-python",
   "name": "python",
   "nbconvert_exporter": "python",
   "pygments_lexer": "ipython3",
   "version": "3.10.6"
  }
 },
 "nbformat": 4,
 "nbformat_minor": 5
}
