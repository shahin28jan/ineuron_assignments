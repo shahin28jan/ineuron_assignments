{
 "cells": [
  {
   "cell_type": "code",
   "execution_count": null,
   "id": "6b7028f3-baf6-4d1b-b600-b464110155ec",
   "metadata": {},
   "outputs": [],
   "source": [
    "1. What are escape characters, and how do you use them?"
   ]
  },
  {
   "cell_type": "code",
   "execution_count": null,
   "id": "68f77feb-5009-4b0e-ad78-0ad6662d1466",
   "metadata": {},
   "outputs": [],
   "source": [
    "Answer1: Escape characters are illegal characters for Python and never get printed as part of the output.\n",
    "         When backslash is used in Python programming, it allows the program to escape the next characters."
   ]
  },
  {
   "cell_type": "code",
   "execution_count": null,
   "id": "bcf29746-9392-486a-be61-60f69f34d0ac",
   "metadata": {},
   "outputs": [],
   "source": [
    "2. What do the escape characters n and t stand for?"
   ]
  },
  {
   "cell_type": "code",
   "execution_count": null,
   "id": "59be3e38-b5aa-4a78-be93-037170d90c13",
   "metadata": {},
   "outputs": [],
   "source": [
    "Answer2: \\n: Prints the succeeding part of \\n even if in the same line, in a new line.\n",
    "         \\t: we used the \\t to give a tabular space."
   ]
  },
  {
   "cell_type": "code",
   "execution_count": null,
   "id": "6b4bfa1d-d32b-48af-93b7-55962da6cf00",
   "metadata": {},
   "outputs": [],
   "source": [
    "3. What is the way to include backslash characters in a string?"
   ]
  },
  {
   "cell_type": "code",
   "execution_count": null,
   "id": "d7754eb5-a447-443a-be2b-901165ab808a",
   "metadata": {},
   "outputs": [],
   "source": [
    "Answer3: The \\\\ escape character will represent a backslash character."
   ]
  },
  {
   "cell_type": "code",
   "execution_count": null,
   "id": "1204041b-ed18-4109-8ce7-5c6c16d5b0b2",
   "metadata": {},
   "outputs": [],
   "source": [
    "4. The string \"Howl\"s Moving Castle\" is a correct value. Why isn't the single quote character in the\n",
    "   word Howl's not escaped a problem?"
   ]
  },
  {
   "cell_type": "code",
   "execution_count": null,
   "id": "bfa9d0c9-dd68-4065-bf4d-5f4f357a65a4",
   "metadata": {},
   "outputs": [],
   "source": [
    "Answer4: The single quote in Howl's is fine because we have used double quotes at the beginning and end of the string."
   ]
  },
  {
   "cell_type": "code",
   "execution_count": null,
   "id": "2e3ee1c3-fe67-4a5d-baef-e9878bd9a935",
   "metadata": {},
   "outputs": [],
   "source": [
    "5. How do you write a string of newlines if you don&#39;t want to use the n character?"
   ]
  },
  {
   "cell_type": "code",
   "execution_count": null,
   "id": "4c73998c-5e29-4cd7-be2a-d5ce0526413e",
   "metadata": {},
   "outputs": [],
   "source": [
    "Answer5: Multiline strings allow you to use newlines in strings without the \\n escape character."
   ]
  },
  {
   "cell_type": "code",
   "execution_count": null,
   "id": "ac7abb0b-d23a-4217-95de-00ce5c68fbd5",
   "metadata": {},
   "outputs": [],
   "source": [
    "6. What are the values of the given expressions?\n",
    "'Hello, world!'[1]\n",
    "'Hello, world!'[0:5]\n",
    "'Hello, world!'[:5]\n",
    "'Hello, world!'[3:]"
   ]
  },
  {
   "cell_type": "code",
   "execution_count": 9,
   "id": "ec65fd4f-42b8-43f6-91ac-5a205adc67c3",
   "metadata": {},
   "outputs": [],
   "source": [
    "Answer6: the values of the given expressions are:\n",
    "'Hello, world!'[1]: 'e'\n",
    "'Hello, world!'[0:5]: 'Hello'\n",
    "'Hello, world!'[:5]: 'Hello' \n",
    "'Hello, world!'[3:]: 'lo world!'"
   ]
  },
  {
   "cell_type": "code",
   "execution_count": null,
   "id": "5d553cde-d818-4807-b95d-510cf68d036e",
   "metadata": {},
   "outputs": [],
   "source": [
    "7. What are the values of the following expressions?\n",
    "'Hello'.upper()\n",
    "'Hello'.upper().isupper()\n",
    "'Hello'.upper().lower()"
   ]
  },
  {
   "cell_type": "code",
   "execution_count": 16,
   "id": "42ed3be8-ca90-4075-a1a3-ec0eeaa289e9",
   "metadata": {},
   "outputs": [
    {
     "ename": "SyntaxError",
     "evalue": "illegal target for annotation (2633094428.py, line 4)",
     "output_type": "error",
     "traceback": [
      "\u001b[0;36m  Cell \u001b[0;32mIn [16], line 4\u001b[0;36m\u001b[0m\n\u001b[0;31m    'Hello'.upper().lower(): False\u001b[0m\n\u001b[0m    ^\u001b[0m\n\u001b[0;31mSyntaxError\u001b[0m\u001b[0;31m:\u001b[0m illegal target for annotation\n"
     ]
    }
   ],
   "source": [
    "Answer7: the values of the following expressions are:\n",
    "'Hello'.upper(): 'HELLO'\n",
    "'Hello'.upper().isupper(): True\n",
    "'Hello'.upper().lower(): 'hello'"
   ]
  },
  {
   "cell_type": "code",
   "execution_count": null,
   "id": "9e6c58cd-5810-48bd-aa57-bcfd46e75fe2",
   "metadata": {},
   "outputs": [],
   "source": [
    "8. What are the values of the following expressions?\n",
    "'Remember, remember, the fifth of July.'.split()\n",
    "'-'.join('There can only one.'.split())"
   ]
  },
  {
   "cell_type": "code",
   "execution_count": null,
   "id": "7e169cff-1125-45dd-abca-5b6a6792a5c2",
   "metadata": {},
   "outputs": [],
   "source": [
    "8. What are the values of the following expressions?\n",
    "'Remember, remember, the fifth of July.'.split(): ['Remember,', 'remember,', 'the', 'fifth', 'of', 'July.']\n",
    "'-'.join('There can only one.'.split()): 'There-can-only-one.'"
   ]
  },
  {
   "cell_type": "code",
   "execution_count": null,
   "id": "f3090388-4d6d-433a-aca8-d19367970a4d",
   "metadata": {},
   "outputs": [],
   "source": [
    "9. What are the methods for right-justifying, left-justifying, and centering a string?"
   ]
  },
  {
   "cell_type": "code",
   "execution_count": null,
   "id": "edeb666b-a61a-4ddd-a1eb-a7f983068838",
   "metadata": {},
   "outputs": [],
   "source": [
    "Answer9: The rjust(), ljust(), and center() string methods, respectively"
   ]
  },
  {
   "cell_type": "code",
   "execution_count": null,
   "id": "bbad57c2-fee8-409f-88c5-0e649eb3ccdd",
   "metadata": {},
   "outputs": [],
   "source": []
  }
 ],
 "metadata": {
  "kernelspec": {
   "display_name": "Python 3 (ipykernel)",
   "language": "python",
   "name": "python3"
  },
  "language_info": {
   "codemirror_mode": {
    "name": "ipython",
    "version": 3
   },
   "file_extension": ".py",
   "mimetype": "text/x-python",
   "name": "python",
   "nbconvert_exporter": "python",
   "pygments_lexer": "ipython3",
   "version": "3.10.6"
  }
 },
 "nbformat": 4,
 "nbformat_minor": 5
}
