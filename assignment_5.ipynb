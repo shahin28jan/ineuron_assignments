{
 "cells": [
  {
   "cell_type": "code",
   "execution_count": null,
   "id": "286d933d-6e89-475a-8008-2f821ab9eeeb",
   "metadata": {},
   "outputs": [],
   "source": [
    "1. What does an empty dictionary's code look like?"
   ]
  },
  {
   "cell_type": "code",
   "execution_count": null,
   "id": "e8da0aff-3c2b-46da-870a-52b1b78c1225",
   "metadata": {},
   "outputs": [],
   "source": [
    "Answer1: An empty dictionary's code: dict{}. two curly brackets."
   ]
  },
  {
   "cell_type": "markdown",
   "id": "cf7ee234-295d-431b-86d7-0f18b2b99a7b",
   "metadata": {},
   "source": [
    "2. What is the value of a dictionary value with the key 'foo'; and the value 42?"
   ]
  },
  {
   "cell_type": "code",
   "execution_count": null,
   "id": "a4c1c49f-dbfa-4dd2-9ce9-bfca260730b8",
   "metadata": {},
   "outputs": [],
   "source": [
    "Answer2: {'foo':42}"
   ]
  },
  {
   "cell_type": "code",
   "execution_count": null,
   "id": "6e127e39-a01e-44ee-8e20-29feaf44e093",
   "metadata": {},
   "outputs": [],
   "source": [
    "3. What is the most significant distinction between a dictionary and a list?"
   ]
  },
  {
   "cell_type": "code",
   "execution_count": null,
   "id": "716e7d5a-bba9-4367-91cf-b1fefdcb7c32",
   "metadata": {},
   "outputs": [],
   "source": [
    "Answer3: The items stored in a dictionary are unordered, while the items in a list are ordered."
   ]
  },
  {
   "cell_type": "code",
   "execution_count": null,
   "id": "1646cfd2-87c0-4a27-92c4-2190d9b85bb4",
   "metadata": {},
   "outputs": [],
   "source": [
    "4. What happens if you try to access spam['foo'] if spam is {'bar': 100}?"
   ]
  },
  {
   "cell_type": "code",
   "execution_count": 5,
   "id": "efc336c8-553c-4511-b678-df8966fb9fa3",
   "metadata": {},
   "outputs": [
    {
     "ename": "KeyError",
     "evalue": "'foo'",
     "output_type": "error",
     "traceback": [
      "\u001b[0;31m---------------------------------------------------------------------------\u001b[0m",
      "\u001b[0;31mKeyError\u001b[0m                                  Traceback (most recent call last)",
      "Cell \u001b[0;32mIn [5], line 4\u001b[0m\n\u001b[1;32m      1\u001b[0m \u001b[38;5;66;03m# Answer4: This will give us a error.\u001b[39;00m\n\u001b[1;32m      3\u001b[0m spam\u001b[38;5;241m=\u001b[39m{\u001b[38;5;124m'\u001b[39m\u001b[38;5;124mbar\u001b[39m\u001b[38;5;124m'\u001b[39m:\u001b[38;5;241m100\u001b[39m}\n\u001b[0;32m----> 4\u001b[0m \u001b[43mspam\u001b[49m\u001b[43m[\u001b[49m\u001b[38;5;124;43m'\u001b[39;49m\u001b[38;5;124;43mfoo\u001b[39;49m\u001b[38;5;124;43m'\u001b[39;49m\u001b[43m]\u001b[49m\n",
      "\u001b[0;31mKeyError\u001b[0m: 'foo'"
     ]
    }
   ],
   "source": [
    "# Answer4: This will give us a error.\n",
    "\n",
    "spam={'bar':100}\n",
    "spam['foo']"
   ]
  },
  {
   "cell_type": "code",
   "execution_count": null,
   "id": "c76979b1-d495-47a5-9cb2-6ac6cc42d62a",
   "metadata": {},
   "outputs": [],
   "source": [
    "5. If a dictionary is stored in spam, what is the difference between the expressions 'cat' in spam and\n",
    "'cat' in spam.keys()?"
   ]
  },
  {
   "cell_type": "code",
   "execution_count": 10,
   "id": "cf271e84-06ff-44b5-bb47-8e4a29569b94",
   "metadata": {},
   "outputs": [
    {
     "data": {
      "text/plain": [
       "True"
      ]
     },
     "execution_count": 10,
     "metadata": {},
     "output_type": "execute_result"
    }
   ],
   "source": [
    "#Answer5: There is no difference. The in operator checks whether a value exists as a key in the dictionary.\n",
    "\n",
    "spam = {'cat':100}\n",
    "'cat' in spam"
   ]
  },
  {
   "cell_type": "code",
   "execution_count": 11,
   "id": "3ab2e165-eb1f-4c49-b44e-4cb1072cce09",
   "metadata": {},
   "outputs": [
    {
     "data": {
      "text/plain": [
       "True"
      ]
     },
     "execution_count": 11,
     "metadata": {},
     "output_type": "execute_result"
    }
   ],
   "source": [
    "'cat' in spam.keys()"
   ]
  },
  {
   "cell_type": "code",
   "execution_count": null,
   "id": "1a7ca504-ec51-448b-8ac8-ee1c19ba27c6",
   "metadata": {},
   "outputs": [],
   "source": [
    "6. If a dictionary is stored in spam, what is the difference between the expressions 'cat' in spam and\n",
    "'cat' in spam.values()?"
   ]
  },
  {
   "cell_type": "code",
   "execution_count": 12,
   "id": "9c388927-19f6-4669-94de-da4d26d47a1c",
   "metadata": {},
   "outputs": [
    {
     "data": {
      "text/plain": [
       "True"
      ]
     },
     "execution_count": 12,
     "metadata": {},
     "output_type": "execute_result"
    }
   ],
   "source": [
    "#Answer6:\n",
    "spam = {'cat':100}\n",
    "'cat' in spam"
   ]
  },
  {
   "cell_type": "code",
   "execution_count": 13,
   "id": "d294245b-de6e-47e7-943c-96baa248790e",
   "metadata": {},
   "outputs": [
    {
     "data": {
      "text/plain": [
       "dict_values([100])"
      ]
     },
     "execution_count": 13,
     "metadata": {},
     "output_type": "execute_result"
    }
   ],
   "source": [
    "spam.values()"
   ]
  },
  {
   "cell_type": "code",
   "execution_count": null,
   "id": "908eae99-2b46-45fa-b5d5-23eae0d078ba",
   "metadata": {},
   "outputs": [],
   "source": [
    "#'cat' in spam checks whether there is a 'cat' key in the dictionary\n",
    "#'cat' in spam.values() checks whether there is a value in spam dictionary for key. Here 'cat' is a key and 100 value assign for this."
   ]
  },
  {
   "cell_type": "code",
   "execution_count": null,
   "id": "9ec08dfb-5beb-41e0-b206-04984d76e3ba",
   "metadata": {},
   "outputs": [],
   "source": [
    "7. What is a shortcut for the following code?\n",
    "\n",
    "if 'color' not in spam:\n",
    "spam['color'] = 'black'"
   ]
  },
  {
   "cell_type": "code",
   "execution_count": 14,
   "id": "abc14a74-b528-4b0d-bea6-df93ee2505a7",
   "metadata": {},
   "outputs": [
    {
     "data": {
      "text/plain": [
       "{'cat': 100, 'color': 'black'}"
      ]
     },
     "execution_count": 14,
     "metadata": {},
     "output_type": "execute_result"
    }
   ],
   "source": [
    "#Answer7: \n",
    "\n",
    "spam.setdefault('color', 'black')\n",
    "spam"
   ]
  },
  {
   "cell_type": "code",
   "execution_count": null,
   "id": "40660824-e3db-492d-98c4-0d42934c2522",
   "metadata": {},
   "outputs": [],
   "source": [
    "8. How do you 'pretty print' dictionary values using which module and function?"
   ]
  },
  {
   "cell_type": "code",
   "execution_count": null,
   "id": "64bc2881-7cb0-4123-b717-dcc1a0405537",
   "metadata": {},
   "outputs": [],
   "source": [
    "#Answer8:\n",
    "module: pprint\n",
    "pprint.pprint()"
   ]
  },
  {
   "cell_type": "code",
   "execution_count": 23,
   "id": "5bf9a5d8-d2f6-4519-b5e0-b9cd856b06d9",
   "metadata": {},
   "outputs": [
    {
     "name": "stdout",
     "output_type": "stream",
     "text": [
      "[{'cat': 100, 'color': 'black'},\n",
      " {'color': 'pink', 'dog': 200},\n",
      " {'color': 'green', 'rabbit': 300}]\n"
     ]
    }
   ],
   "source": [
    "import pprint\n",
    "spam=[{'cat': 100, 'color': 'black'},\n",
    "      {'dog':200, 'color' : 'pink'},\n",
    "      {'rabbit':300, 'color':'green'}]\n",
    "pprint.pprint(spam)"
   ]
  },
  {
   "cell_type": "code",
   "execution_count": 24,
   "id": "6a8a9143-9553-4fc8-bd36-d58d3a82bbe2",
   "metadata": {},
   "outputs": [
    {
     "name": "stdout",
     "output_type": "stream",
     "text": [
      "[{'cat': 100, 'color': 'black'}, {'dog': 200, 'color': 'pink'}, {'rabbit': 300, 'color': 'green'}]\n"
     ]
    }
   ],
   "source": [
    "print(spam)"
   ]
  },
  {
   "cell_type": "code",
   "execution_count": null,
   "id": "19fbc10a-93f4-4463-8b1e-c5f8478a9791",
   "metadata": {},
   "outputs": [],
   "source": [
    "#the only difference is in the way it prints complex data structures. The normal print() function prints the entire content in a single line."
   ]
  }
 ],
 "metadata": {
  "kernelspec": {
   "display_name": "Python 3 (ipykernel)",
   "language": "python",
   "name": "python3"
  },
  "language_info": {
   "codemirror_mode": {
    "name": "ipython",
    "version": 3
   },
   "file_extension": ".py",
   "mimetype": "text/x-python",
   "name": "python",
   "nbconvert_exporter": "python",
   "pygments_lexer": "ipython3",
   "version": "3.10.6"
  }
 },
 "nbformat": 4,
 "nbformat_minor": 5
}
