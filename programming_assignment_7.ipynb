{
 "cells": [
  {
   "cell_type": "code",
   "execution_count": 5,
   "id": "a88663c5-916b-4eef-9103-df4e5738ce62",
   "metadata": {},
   "outputs": [
    {
     "name": "stdout",
     "output_type": "stream",
     "text": [
      "Object `array` not found.\n"
     ]
    }
   ],
   "source": [
    "1. Write a Python Program to find sum of array?"
   ]
  },
  {
   "cell_type": "code",
   "execution_count": 6,
   "id": "efc4eaba-f872-44d0-8225-b39ee4b01262",
   "metadata": {},
   "outputs": [
    {
     "name": "stdout",
     "output_type": "stream",
     "text": [
      "Array = [14  9  6 13 17  3  6 12 10  5]\n",
      "Sum of array is: 95\n"
     ]
    }
   ],
   "source": [
    "#Answer1:\n",
    "\n",
    "import numpy as np\n",
    "\n",
    "A = np.random.randint(1,20,10)\n",
    "sum = np.sum(A)\n",
    "print(f\"Array = {A}\")\n",
    "print(f\"Sum of array is: {sum}\")"
   ]
  },
  {
   "cell_type": "code",
   "execution_count": null,
   "id": "3bed1b13-16a4-4171-893f-69da46756313",
   "metadata": {},
   "outputs": [],
   "source": [
    "2. Write a Python Program to find largest element in an array?"
   ]
  },
  {
   "cell_type": "code",
   "execution_count": 9,
   "id": "1c2937ed-19f2-489b-a67e-a893c0bc87b5",
   "metadata": {},
   "outputs": [
    {
     "name": "stdout",
     "output_type": "stream",
     "text": [
      "Array = [ 7 10  6  5  7  3  6 18 12  9]\n",
      "Largest element in given array : 18\n"
     ]
    }
   ],
   "source": [
    "#Answer2:\n",
    "\n",
    "import numpy as np\n",
    "\n",
    "A = np.random.randint(1,20,10)\n",
    "max = np.max(A)\n",
    "print(f\"Array = {A}\")\n",
    "print(f\"Largest element in given array : {max}\")"
   ]
  },
  {
   "cell_type": "code",
   "execution_count": null,
   "id": "d5b38956-128c-4abf-a0f9-3ceda4065bd0",
   "metadata": {},
   "outputs": [],
   "source": [
    "3. Write a Python Program for array rotation?"
   ]
  },
  {
   "cell_type": "code",
   "execution_count": 13,
   "id": "fe894266-a41a-4802-8552-1d70e1725c36",
   "metadata": {},
   "outputs": [
    {
     "name": "stdout",
     "output_type": "stream",
     "text": [
      "Array before rotation: [4 2 4 4 5 7 1 8 8 8]\n"
     ]
    },
    {
     "name": "stdin",
     "output_type": "stream",
     "text": [
      "Enter the number of times an array should be rotated:  2\n"
     ]
    },
    {
     "name": "stdout",
     "output_type": "stream",
     "text": [
      "Array After rotation: [4 4 5 7 1 8 8 8 4 2]\n"
     ]
    }
   ],
   "source": [
    "#Answer3:\n",
    "\n",
    "import numpy as np\n",
    "\n",
    "array = np.random.randint(1,10,10)   \n",
    "print(f\"Array before rotation: {array}\") \n",
    "\n",
    "n = int(input(\"Enter the number of times an array should be rotated: \"))        \n",
    "    \n",
    "#Rotate the array by n times toward left  \n",
    "\n",
    "for i in range(0, n):    \n",
    "        \n",
    "    first = array[0]   \n",
    "        \n",
    "    for j in range(0, len(array)-1):    \n",
    "        \n",
    "        array[j] = array[j+1]    \n",
    "            \n",
    "    array[len(array)-1] = first    \n",
    "     \n",
    "print(f\"Array After rotation: {array}\")       "
   ]
  },
  {
   "cell_type": "code",
   "execution_count": null,
   "id": "915475bc-8892-4af2-9323-4deff91a614d",
   "metadata": {},
   "outputs": [],
   "source": [
    "4. Write a Python Program to Split the array and add the first part to the end?"
   ]
  },
  {
   "cell_type": "code",
   "execution_count": 31,
   "id": "10c5d72b-16ea-4f42-a5f7-1053af420b09",
   "metadata": {},
   "outputs": [
    {
     "name": "stdout",
     "output_type": "stream",
     "text": [
      "Array: [7 3 3 3 2]\n",
      "[array([7, 3, 3]), array([3, 2])]\n",
      "Array after adding first part [7 3 3] to the end [3 2]: [3 2 7 3 3]\n"
     ]
    }
   ],
   "source": [
    "import numpy as np\n",
    "array = np.random.randint(1,10,5)   \n",
    "split_array = np.array_split(array, 2)        \n",
    "new_array = np.concatenate((split_array[1],split_array[0]))\n",
    "print(f\"Array: {array}\")\n",
    "print(f\"Array after adding first part {split_array[0]} to the end {split_array[1]}: {new_array}\")    "
   ]
  },
  {
   "cell_type": "code",
   "execution_count": null,
   "id": "628df1ba-3c64-4632-9d9c-26a65168a465",
   "metadata": {},
   "outputs": [],
   "source": [
    "5. Write a Python Program to check if given array is Monotonic?"
   ]
  },
  {
   "cell_type": "code",
   "execution_count": 50,
   "id": "8d39a441-aa7b-49ea-97cd-1cc8b695f2b0",
   "metadata": {},
   "outputs": [
    {
     "name": "stdout",
     "output_type": "stream",
     "text": [
      "Array:  [1, 2, 2, 10, 9]\n",
      "Array is not monotonic\n"
     ]
    }
   ],
   "source": [
    "#Answer:\n",
    "A=[1, 2, 2,4,9]\n",
    "print(\"Array: \",A)\n",
    "if len(array)==1:\n",
    "    print(\"Array's length is one \")\n",
    "    \n",
    "if all(A[i] <= A[i+1] for i in range (len(A)-1)):\n",
    "    print(\"Array is monotonic\")\n",
    "elif all(A[i] >= A[i+1] for i in range (len(A)-1)):\n",
    "    print(\"Array is monotonic\")\n",
    "else:\n",
    "    print(\"Array is not monotonic\")"
   ]
  },
  {
   "cell_type": "code",
   "execution_count": null,
   "id": "8d3cb3be-7ea2-4cff-8e5a-cf34399c5d28",
   "metadata": {},
   "outputs": [],
   "source": []
  }
 ],
 "metadata": {
  "kernelspec": {
   "display_name": "Python 3 (ipykernel)",
   "language": "python",
   "name": "python3"
  },
  "language_info": {
   "codemirror_mode": {
    "name": "ipython",
    "version": 3
   },
   "file_extension": ".py",
   "mimetype": "text/x-python",
   "name": "python",
   "nbconvert_exporter": "python",
   "pygments_lexer": "ipython3",
   "version": "3.10.6"
  }
 },
 "nbformat": 4,
 "nbformat_minor": 5
}
