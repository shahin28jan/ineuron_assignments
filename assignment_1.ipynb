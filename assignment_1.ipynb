{
 "cells": [
  {
   "cell_type": "code",
   "execution_count": null,
   "id": "085038cf-ebd8-4a67-8ecd-283b4714971d",
   "metadata": {},
   "outputs": [],
   "source": [
    "1. In the below elements which of them are values or an expression? eg:- values can be\n",
    "integer or string and expressions will be mathematical operators.\n",
    "*\n",
    "'hello'\n",
    "-87.8\n",
    "-\n",
    "/\n",
    "+\n",
    "6"
   ]
  },
  {
   "cell_type": "code",
   "execution_count": null,
   "id": "5ef727b1-9739-41d4-81c5-01e3588462eb",
   "metadata": {},
   "outputs": [],
   "source": [
    "Answer1: Value = 'hello', -87.8, 6\n",
    "    Expression = *, -, /, +"
   ]
  },
  {
   "cell_type": "code",
   "execution_count": null,
   "id": "e028bf05-5f9f-4619-a542-931a2f37d2fc",
   "metadata": {},
   "outputs": [],
   "source": [
    "2. What is the difference between string and variable?"
   ]
  },
  {
   "cell_type": "code",
   "execution_count": null,
   "id": "44130c9b-a577-4fc5-97ac-517ac0c38aec",
   "metadata": {},
   "outputs": [],
   "source": [
    "Answer2: String always written between quotes. \n",
    "eg- variable: assignment, string: 'assignment'/\"assignment\""
   ]
  },
  {
   "cell_type": "code",
   "execution_count": null,
   "id": "7f641da2-0ce0-4848-b332-1979284d4304",
   "metadata": {},
   "outputs": [],
   "source": [
    "3. Describe three different data types."
   ]
  },
  {
   "cell_type": "code",
   "execution_count": null,
   "id": "a24ad971-11ed-4d08-85e0-810586c61197",
   "metadata": {},
   "outputs": [],
   "source": [
    "Answer3: Three data types are:\n",
    "1. integer eg- 23, 67\n",
    "2. floating value eg- 23.9, 67.5\n",
    "3. string eg 'Hello', \"Welcome\""
   ]
  },
  {
   "cell_type": "code",
   "execution_count": null,
   "id": "109d4413-f600-49a2-b5c3-02e20cd4472e",
   "metadata": {},
   "outputs": [],
   "source": [
    "4. What is an expression made up of? What do all expressions do?"
   ]
  },
  {
   "cell_type": "code",
   "execution_count": null,
   "id": "16363825-814f-4ced-9220-0b6fc6737b22",
   "metadata": {},
   "outputs": [],
   "source": [
    "Answer4: An expression is made with values and operators. We evaluate all expressions to find a single (result) value."
   ]
  },
  {
   "cell_type": "code",
   "execution_count": null,
   "id": "eaca4515-feb5-4904-b5ef-4894432ebe05",
   "metadata": {},
   "outputs": [],
   "source": [
    "5. This assignment statements, like spam = 10. What is the difference between an\n",
    "expression and a statement?"
   ]
  },
  {
   "cell_type": "code",
   "execution_count": null,
   "id": "1ced057c-d893-42f7-89da-7889baa4bda9",
   "metadata": {},
   "outputs": [],
   "source": [
    "Answer5: An expression has values and operators like a = 3+4 while statements like spam = 10 has only value. We solve expression to get single(result) value while statements do not need to solve."
   ]
  },
  {
   "cell_type": "code",
   "execution_count": null,
   "id": "1c7ed60a-31cf-47eb-b3d8-ef8ad4cee5df",
   "metadata": {},
   "outputs": [],
   "source": [
    "6. After running the following code, what does the variable bacon contain?\n",
    "bacon = 22\n",
    "bacon + 1"
   ]
  },
  {
   "cell_type": "code",
   "execution_count": null,
   "id": "82683ee4-6fc2-4aa6-8186-d1ee88b05a8b",
   "metadata": {},
   "outputs": [],
   "source": [
    "Answer6: varible bacon contain 22. expression bacon + 1 does not reassign the value in bacon variable. For assigning we have to writw expression bacon = bacon + 1"
   ]
  },
  {
   "cell_type": "code",
   "execution_count": null,
   "id": "1bc1fdfd-520f-4adf-b137-9f478d7df2a3",
   "metadata": {},
   "outputs": [],
   "source": [
    "7. What should the values of the following two terms be?\n",
    "'spam' + 'spamspam'\n",
    "'spam' * 3"
   ]
  },
  {
   "cell_type": "code",
   "execution_count": null,
   "id": "9d285f80-e4c8-4d5e-ab37-8b4f8f29d6bc",
   "metadata": {},
   "outputs": [],
   "source": [
    "Answer7: \n",
    "'spam' + 'spamspam' = 'spamspamspam'\n",
    "'spam' * 3 = 'spamspamspam'\n",
    "both give same result "
   ]
  },
  {
   "cell_type": "code",
   "execution_count": null,
   "id": "4448d651-019f-436f-9e3d-bb184fef839a",
   "metadata": {},
   "outputs": [],
   "source": [
    "8. Why is eggs a valid variable name while 100 is invalid?"
   ]
  },
  {
   "cell_type": "code",
   "execution_count": null,
   "id": "8a5cf5a4-3db5-4294-8027-9f866e5fe2c2",
   "metadata": {},
   "outputs": [],
   "source": [
    "Answer8: 100 is invalid variable because variable could not start with numbers while egge is variable because it start with alphabet and does not contain any operator."
   ]
  },
  {
   "cell_type": "code",
   "execution_count": null,
   "id": "891e87bc-ba88-43ca-a89a-45221ce06824",
   "metadata": {},
   "outputs": [],
   "source": [
    "9. What three functions can be used to get the integer, floating-point number, or string\n",
    "version of a value?"
   ]
  },
  {
   "cell_type": "code",
   "execution_count": null,
   "id": "a8312859-9c17-493d-9058-0b4e41c8d33c",
   "metadata": {},
   "outputs": [],
   "source": [
    "Answer9: \n",
    "integer: int()\n",
    "floating-point number: float()\n",
    "string: str()"
   ]
  },
  {
   "cell_type": "code",
   "execution_count": null,
   "id": "dfc3ad8d-2284-447b-8fb8-096b06d61cad",
   "metadata": {},
   "outputs": [],
   "source": [
    "10. Why does this expression cause an error? How can you fix it?\n",
    "'I have eaten' + 99 + 'burritos'"
   ]
  },
  {
   "cell_type": "code",
   "execution_count": null,
   "id": "11437749-dd2f-4d65-b849-8f4016c99753",
   "metadata": {},
   "outputs": [],
   "source": [
    "Answer10: This expression concatenate two string and one integer while only string can be concatenate thats why it give error. Right expression should be: \n",
    "          'I have eaten' + '99' + 'burritos'"
   ]
  },
  {
   "cell_type": "code",
   "execution_count": null,
   "id": "a96ed728-1034-490f-8191-4de3f610e82b",
   "metadata": {},
   "outputs": [],
   "source": []
  }
 ],
 "metadata": {
  "kernelspec": {
   "display_name": "Python 3 (ipykernel)",
   "language": "python",
   "name": "python3"
  },
  "language_info": {
   "codemirror_mode": {
    "name": "ipython",
    "version": 3
   },
   "file_extension": ".py",
   "mimetype": "text/x-python",
   "name": "python",
   "nbconvert_exporter": "python",
   "pygments_lexer": "ipython3",
   "version": "3.10.6"
  }
 },
 "nbformat": 4,
 "nbformat_minor": 5
}
