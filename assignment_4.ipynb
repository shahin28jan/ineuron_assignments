{
 "cells": [
  {
   "cell_type": "code",
   "execution_count": null,
   "id": "a8127e1a-d918-47a2-b3c2-cce85cac7968",
   "metadata": {},
   "outputs": [],
   "source": [
    "1. What exactly is []?"
   ]
  },
  {
   "cell_type": "code",
   "execution_count": null,
   "id": "9cf27e63-ee08-4c22-a042-18648b8ba910",
   "metadata": {},
   "outputs": [],
   "source": [
    "Answer1: This means empty string. A string that has no items. eg. my_list = [] In this example my_list is a list which has no values(items)."
   ]
  },
  {
   "cell_type": "code",
   "execution_count": 2,
   "id": "62c0638e-8620-4fe9-86ba-cdf50f1265c1",
   "metadata": {},
   "outputs": [],
   "source": [
    "2. In a list of values stored in a variable called spam, how would you assign the value 'hello' as the\n",
    "third value? (Assume [2, 4, 6, 8, 10] are in spam.)"
   ]
  },
  {
   "cell_type": "code",
   "execution_count": 10,
   "id": "0a62d9d9-862b-4a8d-8574-81d2bf0d9cb6",
   "metadata": {},
   "outputs": [],
   "source": [
    "Answer2:\n",
    "spam = [2, 4, 6, 8, 10]\n",
    "spam[2] = \"hello\" (In python list indexing start from zero(0),so for third position we use index no 2 )"
   ]
  },
  {
   "cell_type": "code",
   "execution_count": null,
   "id": "0266fe82-beff-4ff6-8e9b-929bde9b83a1",
   "metadata": {},
   "outputs": [],
   "source": [
    "Let's pretend the spam includes the list ['a','b','c','d'] for the next three queries."
   ]
  },
  {
   "cell_type": "code",
   "execution_count": null,
   "id": "5868f0e5-18b6-44cd-b443-cbb03c3dd738",
   "metadata": {},
   "outputs": [],
   "source": [
    "3. What is the value of spam[int(int('3' * 2) / 11)]?"
   ]
  },
  {
   "cell_type": "code",
   "execution_count": null,
   "id": "96f75819-fc14-4c37-8509-cdff93b40b2b",
   "metadata": {},
   "outputs": [],
   "source": [
    "Answer3: value is 'd'. \n",
    "         '3' * 2 here 3 is string so concatenate and rsult is 33. \n",
    "          now 33 is a integer which is divided by 11 and answer is 3, so at spam [3] value is 'd'  "
   ]
  },
  {
   "cell_type": "code",
   "execution_count": null,
   "id": "44a8377c-e1a4-4b0b-937b-3516e06170db",
   "metadata": {},
   "outputs": [],
   "source": [
    "4. What is the value of spam[-1]?"
   ]
  },
  {
   "cell_type": "code",
   "execution_count": null,
   "id": "4b7e2d03-9cbc-458d-be1a-726da517eeab",
   "metadata": {},
   "outputs": [],
   "source": [
    "Answer4: The value of spam[-1] is 'd' (-1 means last index because negative indexing start from end)"
   ]
  },
  {
   "cell_type": "code",
   "execution_count": null,
   "id": "4c28f82b-682a-49a2-9620-73e74dfe8980",
   "metadata": {},
   "outputs": [],
   "source": [
    "5. What is the value of spam[:2]?"
   ]
  },
  {
   "cell_type": "code",
   "execution_count": null,
   "id": "bd7d95b1-161b-4dd8-bfbb-07095562930f",
   "metadata": {},
   "outputs": [],
   "source": [
    "Answer5: The value of spam[:2] is spam = ['a','b']"
   ]
  },
  {
   "cell_type": "code",
   "execution_count": null,
   "id": "c064fc8a-3697-4470-8f72-9afd7083326c",
   "metadata": {},
   "outputs": [],
   "source": [
    "Let's pretend bacon has the list [3.14, 'cat', 11, 'cat', True] for the next three questions."
   ]
  },
  {
   "cell_type": "code",
   "execution_count": null,
   "id": "a0c0f55a-5c24-44fd-ac14-5e9918b62893",
   "metadata": {},
   "outputs": [],
   "source": [
    "6. What is the value of bacon.index('cat')?"
   ]
  },
  {
   "cell_type": "code",
   "execution_count": null,
   "id": "8b0a5557-b805-4ea9-8db7-c17842931f89",
   "metadata": {},
   "outputs": [],
   "source": [
    "Answer6: The value is 1 because in python list indexing start from 0 "
   ]
  },
  {
   "cell_type": "code",
   "execution_count": null,
   "id": "fdf97dca-e0a7-45d0-a42c-5f315e7d709f",
   "metadata": {},
   "outputs": [],
   "source": [
    "7. How does bacon.append(99) change the look of the list value in bacon?"
   ]
  },
  {
   "cell_type": "code",
   "execution_count": null,
   "id": "9116c9de-2e6e-46c1-b9cc-85eb621d320f",
   "metadata": {},
   "outputs": [],
   "source": [
    "Answer7: bacon = [3.14, 'cat', 11, 'cat', True, 99]  append key is used for adding value at the end of the list"
   ]
  },
  {
   "cell_type": "code",
   "execution_count": null,
   "id": "13aeeab7-df02-4931-8dd3-072cb5c6f994",
   "metadata": {},
   "outputs": [],
   "source": [
    "8. How does bacon.remove('cat') change the look of the list in bacon?"
   ]
  },
  {
   "cell_type": "code",
   "execution_count": null,
   "id": "da946561-285b-43c3-b18a-d31520186aef",
   "metadata": {},
   "outputs": [],
   "source": [
    "Answer8: bacon = [3.14, 11, 'cat', True, 99] remove key is used for removing the given value from the list"
   ]
  },
  {
   "cell_type": "code",
   "execution_count": null,
   "id": "2dbad561-4e7d-4517-a229-43e830fe7b02",
   "metadata": {},
   "outputs": [],
   "source": [
    "9. What are the list concatenation and list replication operators?"
   ]
  },
  {
   "cell_type": "code",
   "execution_count": null,
   "id": "91db8803-9595-4b39-b206-0536b69f13bf",
   "metadata": {},
   "outputs": [],
   "source": [
    "Answer9: The operator for list concatenation is '+' sign and operator for replication is'*'."
   ]
  },
  {
   "cell_type": "code",
   "execution_count": null,
   "id": "da30d74f-b0a1-4eb9-948a-63dd4d60c292",
   "metadata": {},
   "outputs": [],
   "source": [
    "10. What is difference between the list methods append() and insert()?"
   ]
  },
  {
   "cell_type": "code",
   "execution_count": null,
   "id": "0e9e6a5a-52bd-4b64-a09d-2616108937f4",
   "metadata": {},
   "outputs": [],
   "source": [
    "Answer10: In the list append method add value only at the end of the list, while method insert can add value anywhere in the list."
   ]
  },
  {
   "cell_type": "code",
   "execution_count": null,
   "id": "64dccfc7-51cd-43c5-a1e0-3309fd315445",
   "metadata": {},
   "outputs": [],
   "source": [
    "11. What are the two methods for removing items from a list?"
   ]
  },
  {
   "cell_type": "code",
   "execution_count": null,
   "id": "6c3ec8ee-f04e-41c2-a018-a8f56e29cde0",
   "metadata": {},
   "outputs": [],
   "source": [
    "Answer11: The two methods for removing items from a list are remove() and del()."
   ]
  },
  {
   "cell_type": "code",
   "execution_count": null,
   "id": "52eab397-e399-416f-b8b2-1fdd46fcdb01",
   "metadata": {},
   "outputs": [],
   "source": [
    "12. Describe how list values and string values are identical."
   ]
  },
  {
   "cell_type": "code",
   "execution_count": null,
   "id": "2a73f51f-bc08-44ad-a74d-dffbc57bc7ba",
   "metadata": {},
   "outputs": [],
   "source": [
    "Answer12: 1.Both string and list has length\n",
    "          2.Both has indexing (in string characters and in list values are index)\n",
    "          3.String and list both can be used in for loop becaus they are sequence \n",
    "          4.In string and list we can add character and value respectivily.\n",
    "          5. 'in' and 'not' operators used in both string and list  \n",
    "          6. concatenation and replication methods used in both cases"
   ]
  },
  {
   "cell_type": "code",
   "execution_count": null,
   "id": "c9e64f19-0a53-47c3-8c4a-642b0c7712fe",
   "metadata": {},
   "outputs": [],
   "source": [
    "13. What's the difference between tuples and lists?"
   ]
  },
  {
   "cell_type": "code",
   "execution_count": null,
   "id": "9ec085a7-d9b7-4239-9635-77c48c8ec94b",
   "metadata": {},
   "outputs": [],
   "source": [
    "Answer13: 1. Lists are mutable means we can add, remove values but tuples are immutable we can not add, remove values.\n",
    "          2. List consuming more memory than tuples.\n",
    "          3. List written in square brackets[ ], while tuples written in parentheses( )"
   ]
  },
  {
   "cell_type": "code",
   "execution_count": null,
   "id": "f61bfc07-4d40-4603-bfca-1c28c973ca14",
   "metadata": {},
   "outputs": [],
   "source": [
    "14. How do you type a tuple value that only contains the integer 42?"
   ]
  },
  {
   "cell_type": "code",
   "execution_count": null,
   "id": "ae20aaea-068e-4bc5-9558-7aa1d6472572",
   "metadata": {},
   "outputs": [],
   "source": [
    "Answer14: (42,) (The trailing comma is required otherwise type of variable will be integer not tuple)"
   ]
  },
  {
   "cell_type": "code",
   "execution_count": null,
   "id": "8c705b64-f3d9-41f2-a5ab-bf6c819736fc",
   "metadata": {},
   "outputs": [],
   "source": [
    "15. How do you get a list value's tuple form? How do you get a tuple value's list form?"
   ]
  },
  {
   "cell_type": "code",
   "execution_count": null,
   "id": "60a80794-10ed-4f19-8155-122bb625dc31",
   "metadata": {},
   "outputs": [],
   "source": [
    "Answer15: The tuple() function is used to get a list value's tuple form and list() function is used to get a tuple value's list form "
   ]
  },
  {
   "cell_type": "code",
   "execution_count": null,
   "id": "4fe1bffd-8177-4f08-8baf-46b636f92b6b",
   "metadata": {},
   "outputs": [],
   "source": [
    "16. Variables that \"contain\" list values are not necessarily lists themselves. Instead, what do they\n",
    "contain?"
   ]
  },
  {
   "cell_type": "code",
   "execution_count": null,
   "id": "5aa038cc-5d4a-43c2-a4a6-259021a55466",
   "metadata": {},
   "outputs": [],
   "source": [
    "Answer16: They contain references to list values."
   ]
  },
  {
   "cell_type": "code",
   "execution_count": null,
   "id": "d638bbd2-bcb6-495d-a4dd-ad23e2dbde57",
   "metadata": {},
   "outputs": [],
   "source": [
    "17. How do you distinguish between copy.copy() and copy.deepcopy()?"
   ]
  },
  {
   "cell_type": "code",
   "execution_count": null,
   "id": "49b3bcf6-4a96-45b2-90d7-8f642e347e55",
   "metadata": {},
   "outputs": [],
   "source": [
    "Answer16: The copy.copy() function will do a shallow copy of a list, while the copy.deepcopy() function will do a deep copy of a list. That is,\n",
    "          only copy.deepcopy() will duplicate any lists inside the list."
   ]
  }
 ],
 "metadata": {
  "kernelspec": {
   "display_name": "Python 3 (ipykernel)",
   "language": "python",
   "name": "python3"
  },
  "language_info": {
   "codemirror_mode": {
    "name": "ipython",
    "version": 3
   },
   "file_extension": ".py",
   "mimetype": "text/x-python",
   "name": "python",
   "nbconvert_exporter": "python",
   "pygments_lexer": "ipython3",
   "version": "3.10.6"
  }
 },
 "nbformat": 4,
 "nbformat_minor": 5
}
